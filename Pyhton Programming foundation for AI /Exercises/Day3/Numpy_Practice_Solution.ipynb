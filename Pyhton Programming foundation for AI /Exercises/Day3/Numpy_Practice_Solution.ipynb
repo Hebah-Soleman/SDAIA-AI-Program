{
  "nbformat": 4,
  "nbformat_minor": 0,
  "metadata": {
    "colab": {
      "provenance": []
    },
    "kernelspec": {
      "name": "python3",
      "display_name": "Python 3"
    },
    "language_info": {
      "name": "python"
    }
  },
  "cells": [
    {
      "cell_type": "markdown",
      "metadata": {
        "id": "430cEIv0aDLu"
      },
      "source": [
        "![image.png](https://i.imgur.com/a3uAqnb.png)"
      ]
    },
    {
      "cell_type": "markdown",
      "source": [
        "# **Numpy Exercises**\n",
        "\n",
        "## Super easy\n",
        "- Basic implementations and beginners level problems with numpy.\n",
        "\n",
        "## Easy\n",
        "- Simple operations on numpy arrays.\n",
        "\n",
        "## Mild\n",
        "- A combination of simple operations & manipulations.\n",
        "\n",
        "## Hard\n",
        "- More complex combination of operations and manipulations.\n",
        "\n",
        "## Super hard (BONUS)\n",
        "- Innovative questions with more advanced manipulations and operations"
      ],
      "metadata": {
        "id": "ykyA-jvxSkze"
      }
    },
    {
      "cell_type": "markdown",
      "source": [
        "## Total Questions: 43"
      ],
      "metadata": {
        "id": "7rus_2FEhTuZ"
      }
    },
    {
      "cell_type": "markdown",
      "source": [
        "\n",
        "# Super Easy: 10\n",
        "<hr />\n",
        "\n",
        "- Create a NumPy array with the values [1, 2, 3, 4, 5].\n",
        "\n",
        "<hr />\n",
        "\n",
        "- Create a NumPy array with 10 zeros.\n",
        "\n",
        "<hr />\n",
        "\n",
        "- Create a NumPy array with 5 random integers between 1 and 10.\n",
        "\n",
        "<hr />\n",
        "\n",
        "- Create a NumPy array of shape (3, 3) with all values set to 1.\n",
        "\n",
        "<hr />\n",
        "\n",
        "- Create a NumPy array with the values [[1, 2], [3, 4], [5, 6]].\n",
        "\n",
        "<hr />\n",
        "\n",
        "- Create a NumPy array with the first 10 even numbers starting from 0.\n",
        "\n",
        "<hr />\n",
        "\n",
        "- Create a NumPy array with the numbers from 1 to 10 in reverse order.\n",
        "\n",
        "<hr />\n",
        "\n",
        "- Create a NumPy array with the values of the function f(x) = 2x - 1, where x ranges from 0 to 4.\n",
        "\n",
        "<hr />\n",
        "\n",
        "- Create a NumPy array with 10 equally spaced values between 0 and 1.\n",
        "\n",
        "<hr />\n",
        "<hr/>"
      ],
      "metadata": {
        "id": "u4Kbb5SoIip7"
      }
    },
    {
      "cell_type": "code",
      "source": [
        "import numpy as np"
      ],
      "metadata": {
        "id": "64kPzn1KsL5q"
      },
      "execution_count": 46,
      "outputs": []
    },
    {
      "cell_type": "code",
      "source": [
        "# 1. Array with values [1, 2, 3, 4, 5]\n",
        "arr1 = np.array([1, 2, 3, 4, 5])\n",
        "arr1"
      ],
      "metadata": {
        "colab": {
          "base_uri": "https://localhost:8080/"
        },
        "id": "qaW4R0KEsc1J",
        "outputId": "f8afca7f-28c6-4b2a-8736-392a0fe51b15"
      },
      "execution_count": 47,
      "outputs": [
        {
          "output_type": "execute_result",
          "data": {
            "text/plain": [
              "array([1, 2, 3, 4, 5])"
            ]
          },
          "metadata": {},
          "execution_count": 47
        }
      ]
    },
    {
      "cell_type": "code",
      "source": [
        "# 2. Array with 10 zeros\n",
        "arr2 = np.zeros(10)\n",
        "arr2"
      ],
      "metadata": {
        "colab": {
          "base_uri": "https://localhost:8080/"
        },
        "id": "nVzQf8Z7sjRW",
        "outputId": "b85d16d4-b221-4ba0-9ff5-e6b05709694f"
      },
      "execution_count": 48,
      "outputs": [
        {
          "output_type": "execute_result",
          "data": {
            "text/plain": [
              "array([0., 0., 0., 0., 0., 0., 0., 0., 0., 0.])"
            ]
          },
          "metadata": {},
          "execution_count": 48
        }
      ]
    },
    {
      "cell_type": "code",
      "source": [
        "# 3. Array with 5 random integers between 1 and 10\n",
        "arr3 = np.random.randint(1, 11, size=5)  # upper bound is exclusive, so use 11\n",
        "arr3"
      ],
      "metadata": {
        "colab": {
          "base_uri": "https://localhost:8080/"
        },
        "id": "B0rs69aesjPf",
        "outputId": "71b57470-8994-42d9-8f2a-6cfdf80fffef"
      },
      "execution_count": 49,
      "outputs": [
        {
          "output_type": "execute_result",
          "data": {
            "text/plain": [
              "array([ 7,  2, 10,  6,  2])"
            ]
          },
          "metadata": {},
          "execution_count": 49
        }
      ]
    },
    {
      "cell_type": "code",
      "source": [
        "# 4. Array of shape (3, 3) with all values set to 1\n",
        "arr4 = np.ones((3, 3))\n",
        "arr4"
      ],
      "metadata": {
        "colab": {
          "base_uri": "https://localhost:8080/"
        },
        "id": "Hbzow-5gsjNP",
        "outputId": "b74b5075-12ee-40b9-b1ea-820ae91e2ca1"
      },
      "execution_count": 50,
      "outputs": [
        {
          "output_type": "execute_result",
          "data": {
            "text/plain": [
              "array([[1., 1., 1.],\n",
              "       [1., 1., 1.],\n",
              "       [1., 1., 1.]])"
            ]
          },
          "metadata": {},
          "execution_count": 50
        }
      ]
    },
    {
      "cell_type": "code",
      "source": [
        "# 5. Array with values [[1, 2], [3, 4], [5, 6]]\n",
        "arr5 = np.array([[1, 2], [3, 4], [5, 6]])\n",
        "arr5"
      ],
      "metadata": {
        "colab": {
          "base_uri": "https://localhost:8080/"
        },
        "id": "CVgeoirksjJQ",
        "outputId": "32d8e0fc-4128-459f-c52e-f47e2ce1af7e"
      },
      "execution_count": 51,
      "outputs": [
        {
          "output_type": "execute_result",
          "data": {
            "text/plain": [
              "array([[1, 2],\n",
              "       [3, 4],\n",
              "       [5, 6]])"
            ]
          },
          "metadata": {},
          "execution_count": 51
        }
      ]
    },
    {
      "cell_type": "code",
      "source": [
        "# 6. Array with the first 10 even numbers starting from 0\n",
        "arr6 = np.arange(0, 20, 2)\n",
        "arr6"
      ],
      "metadata": {
        "colab": {
          "base_uri": "https://localhost:8080/"
        },
        "id": "KjIBFs88sqz5",
        "outputId": "b3354083-47c2-4f0c-f475-2dc7a4ee928c"
      },
      "execution_count": 52,
      "outputs": [
        {
          "output_type": "execute_result",
          "data": {
            "text/plain": [
              "array([ 0,  2,  4,  6,  8, 10, 12, 14, 16, 18])"
            ]
          },
          "metadata": {},
          "execution_count": 52
        }
      ]
    },
    {
      "cell_type": "code",
      "source": [
        "# 7. Array with numbers from 1 to 10 in reverse order\n",
        "arr7 = np.arange(10, 0, -1)\n",
        "arr7"
      ],
      "metadata": {
        "colab": {
          "base_uri": "https://localhost:8080/"
        },
        "id": "85wF7RpCsqr1",
        "outputId": "4911f1c9-ab20-419c-a701-6602a6aaff93"
      },
      "execution_count": 53,
      "outputs": [
        {
          "output_type": "execute_result",
          "data": {
            "text/plain": [
              "array([10,  9,  8,  7,  6,  5,  4,  3,  2,  1])"
            ]
          },
          "metadata": {},
          "execution_count": 53
        }
      ]
    },
    {
      "cell_type": "code",
      "source": [
        "# 8. Array with values of f(x) = 2x - 1, where x ranges from 0 to 4\n",
        "x = np.arange(0, 5)\n",
        "arr8 = 2 * x - 1\n",
        "arr8"
      ],
      "metadata": {
        "colab": {
          "base_uri": "https://localhost:8080/"
        },
        "id": "DIFp8zkxss1C",
        "outputId": "410191bd-6c81-4d17-e479-6f34d39f1efd"
      },
      "execution_count": 54,
      "outputs": [
        {
          "output_type": "execute_result",
          "data": {
            "text/plain": [
              "array([-1,  1,  3,  5,  7])"
            ]
          },
          "metadata": {},
          "execution_count": 54
        }
      ]
    },
    {
      "cell_type": "code",
      "source": [
        "# 9. Array with 10 equally spaced values between 0 and 1\n",
        "arr9 = np.linspace(0, 1, 10)\n",
        "arr9"
      ],
      "metadata": {
        "colab": {
          "base_uri": "https://localhost:8080/"
        },
        "id": "0vi73RfMsszA",
        "outputId": "50b63110-7d6a-4952-f2fe-33d3ef35d227"
      },
      "execution_count": 55,
      "outputs": [
        {
          "output_type": "execute_result",
          "data": {
            "text/plain": [
              "array([0.        , 0.11111111, 0.22222222, 0.33333333, 0.44444444,\n",
              "       0.55555556, 0.66666667, 0.77777778, 0.88888889, 1.        ])"
            ]
          },
          "metadata": {},
          "execution_count": 55
        }
      ]
    },
    {
      "cell_type": "markdown",
      "source": [
        "\n",
        "\n",
        "# Easy: 13\n",
        "<hr />\n",
        "\n",
        "- Implement a function that takes in a matrix and returns its transpose using a nested loop.\n",
        "\n",
        "<hr />\n",
        "\n",
        "-\tMap the first 5 letters of the alphabet to the first 5 numbers using a dictionary.\n",
        "\n",
        "<hr />\n",
        "\n",
        "- Create a NumPy array of shape (3, 3) with the values [[1, 2, 3], [4, 5, 6], [7, 8, 9]]. Replace all odd indices with -1.\n",
        "\n",
        "<hr />\n",
        "\n",
        "- Create a NumPy array of shape (4, 4) with random values between 1 and 10. Replace all values less than the mean with 0.\n",
        "\n",
        "<hr />\n",
        "\n",
        "- Create a NumPy array of shape (3, 3) with the values [[1, 2, 3], [4, 5, 6], [7, 8, 9]]. Reverse the order of the rows in the array.\n",
        "\n",
        "<hr />\n",
        "\n",
        "Create a NumPy array of shape (3, 3) with random values between 1 and 10.\n",
        "- Calculate the dot product of the array with itself.\n",
        "\n",
        "<hr />\n",
        "\n",
        "- Create a 4x4 matrix with values ranging from 0 to 15\n",
        "\n",
        "<hr />\n",
        "\n",
        "- Create a 10x10 array with random values and find the minimum and maximum values\n",
        "\n",
        "<hr />\n",
        "\n",
        "- Create a 5x5 matrix with row values ranging from 0 to 4\n",
        "\n",
        "<hr />\n",
        "\n",
        "- Create a random vector of size 10 and sort it\n",
        "\n",
        "<hr />\n",
        "\n",
        "- Consider two random array A and B, check if they are equal\n",
        "\n",
        "<hr />\n",
        "\n",
        "- Create random vector of size 10 and replace the maximum value by 0\n",
        "\n",
        "<hr />\n",
        "\n",
        "- Create a random vector of size 30 and find the mean value\n",
        "\n",
        "<hr/>\n",
        "<hr/>"
      ],
      "metadata": {
        "id": "r300cLjiIp6T"
      }
    },
    {
      "cell_type": "code",
      "source": [
        "import numpy as np\n",
        "import random\n",
        "import string\n",
        "\n",
        "# 1. Function to transpose a matrix using nested loops\n",
        "def transpose_matrix(matrix):\n",
        "    rows = len(matrix)\n",
        "    cols = len(matrix[0])\n",
        "    transposed = [[0 for _ in range(rows)] for _ in range(cols)]\n",
        "    for i in range(rows):\n",
        "        for j in range(cols):\n",
        "            transposed[j][i] = matrix[i][j]\n",
        "    return transposed\n",
        "\n",
        "matrix = [[1, 2, 3], [4, 5, 6]]\n",
        "transposed_matrix = transpose_matrix(matrix)\n",
        "print(\"Transposed Matrix:\", transposed_matrix)"
      ],
      "metadata": {
        "id": "D5NWpFSSI1g7",
        "colab": {
          "base_uri": "https://localhost:8080/"
        },
        "outputId": "737f1258-da56-4551-ac92-db4bd60ffe85"
      },
      "execution_count": 56,
      "outputs": [
        {
          "output_type": "stream",
          "name": "stdout",
          "text": [
            "Transposed Matrix: [[1, 4], [2, 5], [3, 6]]\n"
          ]
        }
      ]
    },
    {
      "cell_type": "code",
      "source": [
        "# 2. Map first 5 letters to first 5 numbers using a dictionary\n",
        "letters = list(string.ascii_lowercase[:5])\n",
        "numbers = list(range(1, 6))\n",
        "letter_to_number = dict(zip(letters, numbers))\n",
        "print(\"Letter to Number Mapping:\", letter_to_number)"
      ],
      "metadata": {
        "id": "YmpPSbWjI1eQ",
        "colab": {
          "base_uri": "https://localhost:8080/"
        },
        "outputId": "fd9942ac-5869-43b6-8429-d5751467073e"
      },
      "execution_count": 57,
      "outputs": [
        {
          "output_type": "stream",
          "name": "stdout",
          "text": [
            "Letter to Number Mapping: {'a': 1, 'b': 2, 'c': 3, 'd': 4, 'e': 5}\n"
          ]
        }
      ]
    },
    {
      "cell_type": "code",
      "source": [
        "# 3. Replace odd indices with -1\n",
        "arr3 = np.array([[1, 2, 3], [4, 5, 6], [7, 8, 9]])\n",
        "arr3[1::2, 1::2] = -1  # replace values at odd row and odd column indices\n",
        "print(\"Array with odd indices replaced:\\n\", arr3)"
      ],
      "metadata": {
        "id": "qO8NxLihI1be",
        "colab": {
          "base_uri": "https://localhost:8080/"
        },
        "outputId": "2a464839-40f0-4c32-a108-e78096c2a459"
      },
      "execution_count": 58,
      "outputs": [
        {
          "output_type": "stream",
          "name": "stdout",
          "text": [
            "Array with odd indices replaced:\n",
            " [[ 1  2  3]\n",
            " [ 4 -1  6]\n",
            " [ 7  8  9]]\n"
          ]
        }
      ]
    },
    {
      "cell_type": "code",
      "source": [
        "# 4. Replace values less than mean with 0\n",
        "arr4 = np.random.randint(1, 11, size=(4, 4))\n",
        "mean_val = arr4.mean()\n",
        "arr4[arr4 < mean_val] = 0\n",
        "print(\"Array with values < mean replaced by 0:\\n\", arr4)"
      ],
      "metadata": {
        "id": "PmMskwzYI1Yl",
        "colab": {
          "base_uri": "https://localhost:8080/"
        },
        "outputId": "6e1554e5-11fa-451a-db68-0e61ccd5e875"
      },
      "execution_count": 59,
      "outputs": [
        {
          "output_type": "stream",
          "name": "stdout",
          "text": [
            "Array with values < mean replaced by 0:\n",
            " [[ 8  0  0  8]\n",
            " [10 10  0 10]\n",
            " [ 9  8  0  0]\n",
            " [ 7  0  8  0]]\n"
          ]
        }
      ]
    },
    {
      "cell_type": "code",
      "source": [
        "# 5. Reverse the order of rows in a 3x3 array\n",
        "arr5 = np.array([[1, 2, 3], [4, 5, 6], [7, 8, 9]])\n",
        "arr5_reversed = arr5[::-1]\n",
        "print(\"Array with rows reversed:\\n\", arr5_reversed)"
      ],
      "metadata": {
        "id": "tWmmCqV9I1Vv",
        "colab": {
          "base_uri": "https://localhost:8080/"
        },
        "outputId": "c627b1a9-b306-467f-be1e-cb30867249b7"
      },
      "execution_count": 60,
      "outputs": [
        {
          "output_type": "stream",
          "name": "stdout",
          "text": [
            "Array with rows reversed:\n",
            " [[7 8 9]\n",
            " [4 5 6]\n",
            " [1 2 3]]\n"
          ]
        }
      ]
    },
    {
      "cell_type": "code",
      "source": [
        "# 6. Create a 3x3 random array and calculate dot product with itself\n",
        "arr6 = np.random.randint(1, 11, size=(3, 3))\n",
        "dot_product = np.dot(arr6, arr6)\n",
        "print(\"Random Array:\\n\", arr6)\n",
        "print(\"Dot product with itself:\\n\", dot_product)"
      ],
      "metadata": {
        "id": "KYoR5lAjI1TG",
        "colab": {
          "base_uri": "https://localhost:8080/"
        },
        "outputId": "02d0e553-dc1d-4f83-d9f6-a9cc22e399e9"
      },
      "execution_count": 61,
      "outputs": [
        {
          "output_type": "stream",
          "name": "stdout",
          "text": [
            "Random Array:\n",
            " [[3 3 4]\n",
            " [6 2 2]\n",
            " [2 6 4]]\n",
            "Dot product with itself:\n",
            " [[35 39 34]\n",
            " [34 34 36]\n",
            " [50 42 36]]\n"
          ]
        }
      ]
    },
    {
      "cell_type": "code",
      "source": [
        "# 7. 4x4 matrix with values 0 to 15\n",
        "matrix_4x4 = np.arange(16).reshape(4, 4)\n",
        "print(\"4x4 matrix 0-15:\\n\", matrix_4x4)"
      ],
      "metadata": {
        "colab": {
          "base_uri": "https://localhost:8080/"
        },
        "id": "8Wf3CoTSthTa",
        "outputId": "ac8d8400-fa5a-43fd-ddab-dc7cef840fd5"
      },
      "execution_count": 62,
      "outputs": [
        {
          "output_type": "stream",
          "name": "stdout",
          "text": [
            "4x4 matrix 0-15:\n",
            " [[ 0  1  2  3]\n",
            " [ 4  5  6  7]\n",
            " [ 8  9 10 11]\n",
            " [12 13 14 15]]\n"
          ]
        }
      ]
    },
    {
      "cell_type": "code",
      "source": [
        "# 8. 10x10 array with random values and find min and max\n",
        "arr_10x10 = np.random.rand(10, 10)\n",
        "print(\"10x10 Array Min:\", arr_10x10.min(), \"Max:\", arr_10x10.max())"
      ],
      "metadata": {
        "colab": {
          "base_uri": "https://localhost:8080/"
        },
        "id": "otiwKsmcthRH",
        "outputId": "519cc5cd-4f9d-49b3-cbdd-d76e52f9ebd7"
      },
      "execution_count": 63,
      "outputs": [
        {
          "output_type": "stream",
          "name": "stdout",
          "text": [
            "10x10 Array Min: 0.01795360488203368 Max: 0.9954222822344931\n"
          ]
        }
      ]
    },
    {
      "cell_type": "code",
      "source": [
        "# 9. 5x5 matrix with row values ranging 0 to 4\n",
        "matrix_5x5 = np.tile(np.arange(5), (5, 1))\n",
        "print(\"5x5 matrix with row values 0-4:\\n\", matrix_5x5)"
      ],
      "metadata": {
        "colab": {
          "base_uri": "https://localhost:8080/"
        },
        "id": "xBF-soyythO-",
        "outputId": "59f7a382-206f-4ab1-9b3c-e94d54dc9d35"
      },
      "execution_count": 64,
      "outputs": [
        {
          "output_type": "stream",
          "name": "stdout",
          "text": [
            "5x5 matrix with row values 0-4:\n",
            " [[0 1 2 3 4]\n",
            " [0 1 2 3 4]\n",
            " [0 1 2 3 4]\n",
            " [0 1 2 3 4]\n",
            " [0 1 2 3 4]]\n"
          ]
        }
      ]
    },
    {
      "cell_type": "code",
      "source": [
        "# 10. Random vector of size 10 and sort it\n",
        "vector10 = np.random.rand(10)\n",
        "sorted_vector = np.sort(vector10)\n",
        "print(\"Random vector sorted:\\n\", sorted_vector)"
      ],
      "metadata": {
        "colab": {
          "base_uri": "https://localhost:8080/"
        },
        "id": "j3RHLP5pthM4",
        "outputId": "54f9195f-897f-4aa7-892f-db4e53db384b"
      },
      "execution_count": 65,
      "outputs": [
        {
          "output_type": "stream",
          "name": "stdout",
          "text": [
            "Random vector sorted:\n",
            " [0.15189847 0.15828723 0.3519174  0.38092228 0.40028979 0.42266903\n",
            " 0.44643311 0.72096912 0.76541761 0.83226591]\n"
          ]
        }
      ]
    },
    {
      "cell_type": "code",
      "source": [
        "# 11. Check if two random arrays are equal\n",
        "A = np.random.randint(0, 10, 5)\n",
        "B = np.random.randint(0, 10, 5)\n",
        "are_equal = np.array_equal(A, B)\n",
        "print(\"Array A:\", A)\n",
        "print(\"Array B:\", B)\n",
        "print(\"Are A and B equal?\", are_equal)"
      ],
      "metadata": {
        "colab": {
          "base_uri": "https://localhost:8080/"
        },
        "id": "zFfvyoCkthKl",
        "outputId": "c079121c-daad-4760-be91-aa8d4442098e"
      },
      "execution_count": 66,
      "outputs": [
        {
          "output_type": "stream",
          "name": "stdout",
          "text": [
            "Array A: [8 1 3 1 1]\n",
            "Array B: [6 8 7 8 6]\n",
            "Are A and B equal? False\n"
          ]
        }
      ]
    },
    {
      "cell_type": "code",
      "source": [
        "# 12. Random vector of size 10, replace max by 0\n",
        "vec = np.random.randint(0, 20, 10)\n",
        "vec[vec.argmax()] = 0\n",
        "print(\"Vector with max replaced by 0:\", vec)"
      ],
      "metadata": {
        "colab": {
          "base_uri": "https://localhost:8080/"
        },
        "id": "1sfFpGxftvHS",
        "outputId": "76e65d42-1c7a-4ae2-c331-7ac5f667b1cc"
      },
      "execution_count": 67,
      "outputs": [
        {
          "output_type": "stream",
          "name": "stdout",
          "text": [
            "Vector with max replaced by 0: [ 1  5 15 16  7 13  5  7  0  0]\n"
          ]
        }
      ]
    },
    {
      "cell_type": "code",
      "source": [
        "# 13. Random vector of size 30 and find mean\n",
        "vec30 = np.random.rand(30)\n",
        "mean_val30 = vec30.mean()\n",
        "print(\"Mean value of vector:\", mean_val30)"
      ],
      "metadata": {
        "colab": {
          "base_uri": "https://localhost:8080/"
        },
        "id": "L8TJ3zOQtxH8",
        "outputId": "5b475186-13b5-4b35-fafd-7907e57ed5b3"
      },
      "execution_count": 68,
      "outputs": [
        {
          "output_type": "stream",
          "name": "stdout",
          "text": [
            "Mean value of vector: 0.5330042800388877\n"
          ]
        }
      ]
    },
    {
      "cell_type": "markdown",
      "source": [
        "\n",
        "\n",
        "\n",
        "# Mild: 8\n",
        "<hr />\n",
        "\n",
        "-\tImplement a function in Python that takes in a list of integers and returns the sum of the squares of all the even numbers in the list. (mild)\n",
        "\n",
        "<hr />\n",
        "\n",
        "-\tWrite a Python program that generates a random number between 1 and 100 and prompts the user to guess the number. The program should give the user feedback on whether their guess is too high or too low. (mild)\n",
        "\n",
        "<hr />\n",
        "\n",
        "-   Create a NumPy array from 0 to 100, from said array return the primes\n",
        "\n",
        "<hr />\n",
        "\n",
        "Write a Python program that prompts the user to enter two lists (L1 and L2)\n",
        "\n",
        "-\treturn the list of all elements of the intersection of the two sequences in any order.\n",
        "-\treturn the list of all elements of the union of the two sequences in any order.\n",
        "\n",
        "<hr />\n",
        "\n",
        "- Create a NumPy array of shape (5, 5) with random values between 0 and 1. Replace all values less than 0.5 with 0.\n",
        "\n",
        "<hr />\n",
        "\n",
        "Create a NumPy array of shape (3, 3) with random values between 1 and 10.\n",
        "- Create a new array with the values sorted along the first column.\n",
        "- Subtract the mean of each row from each element in that row.\n",
        "- Find the diagonal elements of the array and return them in a new array.\n",
        "\n",
        "<hr />\n",
        "\n",
        "Create a NumPy array with 10 random values between 0 and 1.\n",
        "- Sort the array in ascending order and replace the smallest value with 0.\n",
        "\n",
        "<hr />\n",
        "\n",
        "Create a NumPy array with 9 values.\n",
        "- Reshape the array into a 3x3 matrix and calculate the determinant of the matrix.\n",
        "\n",
        "<hr />\n",
        "\n",
        "- Create a method that multiplies two matrices of the following dimensions 5x3 and 3x5, and compute the determinant of the result.\n",
        "\n",
        "<hr/>\n",
        "<hr/>"
      ],
      "metadata": {
        "id": "-Ier-qdQI0Bt"
      }
    },
    {
      "cell_type": "code",
      "source": [
        "import numpy as np\n",
        "import random\n",
        "\n",
        "# 1. Sum of squares of even numbers\n",
        "def sum_squares_even(lst):\n",
        "    return sum(x**2 for x in lst if x % 2 == 0)\n",
        "\n",
        "print(\"Sum of squares of even numbers:\", sum_squares_even([1, 2, 3, 4, 5, 6]))"
      ],
      "metadata": {
        "id": "wkutW1YcI2wH",
        "colab": {
          "base_uri": "https://localhost:8080/"
        },
        "outputId": "c32db8d5-3d2c-4754-e4c3-27371afe1432"
      },
      "execution_count": 69,
      "outputs": [
        {
          "output_type": "stream",
          "name": "stdout",
          "text": [
            "Sum of squares of even numbers: 56\n"
          ]
        }
      ]
    },
    {
      "cell_type": "code",
      "source": [
        "# 2. Number guessing game\n",
        "def guessing_game():\n",
        "    number = random.randint(1, 100)\n",
        "    guess = None\n",
        "    while guess != number:\n",
        "        guess = int(input(\"Guess a number between 1 and 100: \"))\n",
        "        if guess < number:\n",
        "            print(\"Too low!\")\n",
        "        elif guess > number:\n",
        "            print(\"Too high!\")\n",
        "    print(\"Congratulations! You guessed the number.\")\n",
        "\n",
        "# guessing_game()"
      ],
      "metadata": {
        "id": "rbxf7brXI2st"
      },
      "execution_count": 70,
      "outputs": []
    },
    {
      "cell_type": "code",
      "source": [
        "# 3. Primes from 0 to 100\n",
        "arr = np.arange(0, 101)\n",
        "is_prime = np.array([i > 1 and all(i % d != 0 for d in range(2, int(np.sqrt(i)) + 1)) for i in arr])\n",
        "\n",
        "primes = arr[is_prime]\n",
        "print(\"Primes between 0 and 100:\", primes)"
      ],
      "metadata": {
        "id": "ETno0SRAI2qF",
        "colab": {
          "base_uri": "https://localhost:8080/"
        },
        "outputId": "255ce9a1-9a59-46f8-df3a-cd6b49fd19f6"
      },
      "execution_count": 71,
      "outputs": [
        {
          "output_type": "stream",
          "name": "stdout",
          "text": [
            "Primes between 0 and 100: [ 2  3  5  7 11 13 17 19 23 29 31 37 41 43 47 53 59 61 67 71 73 79 83 89\n",
            " 97]\n"
          ]
        }
      ]
    },
    {
      "cell_type": "code",
      "source": [
        "# 4. Intersection and union of two lists\n",
        "def list_intersection_union():\n",
        "    L1 = list(map(int, input(\"Enter list L1 elements separated by space: \").split()))\n",
        "    L2 = list(map(int, input(\"Enter list L2 elements separated by space: \").split()))\n",
        "\n",
        "    intersection = list(set(L1) & set(L2))\n",
        "    union = list(set(L1) | set(L2))\n",
        "    return intersection, union\n",
        "\n",
        "intersection, union = list_intersection_union()\n",
        "print(\"Intersection:\", intersection)\n",
        "print(\"Union:\", union)"
      ],
      "metadata": {
        "id": "qqxN76meI2nM",
        "colab": {
          "base_uri": "https://localhost:8080/"
        },
        "outputId": "a0ba76d3-a20a-48bf-99be-6c398fd764d6"
      },
      "execution_count": 72,
      "outputs": [
        {
          "output_type": "stream",
          "name": "stdout",
          "text": [
            "Enter list L1 elements separated by space: 1 2 4 5\n",
            "Enter list L2 elements separated by space: 7 4 3 2\n",
            "Intersection: [2, 4]\n",
            "Union: [1, 2, 3, 4, 5, 7]\n"
          ]
        }
      ]
    },
    {
      "cell_type": "code",
      "source": [
        "# 5. Replace values < 0.5 with 0 in 5x5 random array\n",
        "arr5x5 = np.random.rand(5, 5)\n",
        "arr5x5[arr5x5 < 0.5] = 0\n",
        "print(\"5x5 array with values <0.5 replaced by 0:\\n\", arr5x5)"
      ],
      "metadata": {
        "id": "q9v0u9moI2ky",
        "colab": {
          "base_uri": "https://localhost:8080/"
        },
        "outputId": "83a0801a-d151-40c1-d764-bbc88ebd36b3"
      },
      "execution_count": 73,
      "outputs": [
        {
          "output_type": "stream",
          "name": "stdout",
          "text": [
            "5x5 array with values <0.5 replaced by 0:\n",
            " [[0.         0.         0.62997641 0.         0.98101874]\n",
            " [0.87351277 0.         0.67524411 0.         0.        ]\n",
            " [0.50307649 0.         0.93063763 0.         0.        ]\n",
            " [0.         0.         0.         0.         0.71023019]\n",
            " [0.         0.76530718 0.599799   0.         0.79486278]]\n"
          ]
        }
      ]
    },
    {
      "cell_type": "code",
      "source": [
        "# 6. 3x3 random array manipulations\n",
        "arr3x3 = np.random.randint(1, 11, (3, 3))\n",
        "print(\"Original 3x3 array:\\n\", arr3x3)\n",
        "\n",
        "# Sort along first column\n",
        "sorted_arr = arr3x3[arr3x3[:, 0].argsort()]\n",
        "print(\"Sorted along first column:\\n\", sorted_arr)\n",
        "\n",
        "# Subtract row mean\n",
        "row_mean_subtracted = arr3x3 - arr3x3.mean(axis=1, keepdims=True)\n",
        "print(\"Row mean subtracted:\\n\", row_mean_subtracted)\n",
        "\n",
        "# Diagonal elements\n",
        "diagonal_elements = np.diag(arr3x3)\n",
        "print(\"Diagonal elements:\", diagonal_elements)"
      ],
      "metadata": {
        "colab": {
          "base_uri": "https://localhost:8080/"
        },
        "id": "zcdJL83Juo5a",
        "outputId": "45b30c5d-dd64-4454-92d1-b390c70b1030"
      },
      "execution_count": 74,
      "outputs": [
        {
          "output_type": "stream",
          "name": "stdout",
          "text": [
            "Original 3x3 array:\n",
            " [[ 9  3  1]\n",
            " [ 9  5 10]\n",
            " [ 2  4  4]]\n",
            "Sorted along first column:\n",
            " [[ 2  4  4]\n",
            " [ 9  3  1]\n",
            " [ 9  5 10]]\n",
            "Row mean subtracted:\n",
            " [[ 4.66666667 -1.33333333 -3.33333333]\n",
            " [ 1.         -3.          2.        ]\n",
            " [-1.33333333  0.66666667  0.66666667]]\n",
            "Diagonal elements: [9 5 4]\n"
          ]
        }
      ]
    },
    {
      "cell_type": "code",
      "source": [
        "# 7. 10 random values between 0 and 1, sort, replace smallest by 0\n",
        "arr10 = np.random.rand(10)\n",
        "arr10_sorted = np.sort(arr10)\n",
        "arr10_sorted[0] = 0\n",
        "print(\"Sorted array with smallest replaced by 0:\", arr10_sorted)"
      ],
      "metadata": {
        "colab": {
          "base_uri": "https://localhost:8080/"
        },
        "id": "2PYEXaueuo3V",
        "outputId": "43cab7a1-94f5-4304-b25f-bd62f719fdb9"
      },
      "execution_count": 75,
      "outputs": [
        {
          "output_type": "stream",
          "name": "stdout",
          "text": [
            "Sorted array with smallest replaced by 0: [0.         0.26192839 0.27312754 0.28163149 0.56827828 0.72227393\n",
            " 0.73376836 0.75481898 0.7716696  0.86285575]\n"
          ]
        }
      ]
    },
    {
      "cell_type": "code",
      "source": [
        "# 8. 9 values reshaped to 3x3 and determinant\n",
        "arr9 = np.random.rand(9)\n",
        "matrix3x3 = arr9.reshape(3, 3)\n",
        "det_matrix3x3 = np.linalg.det(matrix3x3)\n",
        "print(\"3x3 matrix:\\n\", matrix3x3)\n",
        "print(\"Determinant:\", det_matrix3x3)"
      ],
      "metadata": {
        "colab": {
          "base_uri": "https://localhost:8080/"
        },
        "id": "-E1mi6vSuo0_",
        "outputId": "73e967f4-316c-4d22-d3cb-35bd7c99f068"
      },
      "execution_count": 76,
      "outputs": [
        {
          "output_type": "stream",
          "name": "stdout",
          "text": [
            "3x3 matrix:\n",
            " [[0.83420835 0.54924864 0.68121916]\n",
            " [0.02969023 0.36217288 0.18524572]\n",
            " [0.69507205 0.09775029 0.36964484]]\n",
            "Determinant: -0.008243415684653943\n"
          ]
        }
      ]
    },
    {
      "cell_type": "code",
      "source": [
        "# 9. Multiply 5x3 and 3x5 matrices and compute determinant\n",
        "A = np.random.rand(5, 3)\n",
        "B = np.random.rand(3, 5)\n",
        "product = np.dot(A, B)\n",
        "det_product = np.linalg.det(product)\n",
        "print(\"Product of 5x3 and 3x5 matrices:\\n\", product)\n",
        "print(\"Determinant of the product:\", det_product)"
      ],
      "metadata": {
        "colab": {
          "base_uri": "https://localhost:8080/"
        },
        "id": "RtWqLs4WvYuo",
        "outputId": "d3b4218d-8760-48b2-bb0f-ef27c71b811b"
      },
      "execution_count": 77,
      "outputs": [
        {
          "output_type": "stream",
          "name": "stdout",
          "text": [
            "Product of 5x3 and 3x5 matrices:\n",
            " [[0.73289383 1.158952   0.71676333 1.79521838 1.59930245]\n",
            " [0.22568744 0.38282859 0.25302232 0.53310675 0.5002758 ]\n",
            " [0.34663102 0.74053627 0.74715496 0.85252112 0.8453886 ]\n",
            " [0.31923823 0.64065842 0.40182667 0.60814145 0.72267233]\n",
            " [0.62044167 1.1489767  0.69659499 1.28639008 1.38221102]]\n",
            "Determinant of the product: -9.255735655347413e-34\n"
          ]
        }
      ]
    },
    {
      "cell_type": "markdown",
      "source": [
        "\n",
        "\n",
        "# Hard: 8\n",
        "<hr />\n",
        "\n",
        "-\tWrite a Python program that prompts the user to enter two strings and then prints out whether the two strings are anagrams (i.e. contain the same letters in a different order).\n",
        "\n",
        "<hr />\n",
        "\n",
        "-\tWrite a Python program that prompts the user to enter a matrix, and create a random one with the same shape, then calculates their product.\n",
        "\n",
        "<hr />\n",
        "\n",
        "-\tImplement a function that takes in a matrix and a vector and returns the result of multiplying the matrix by the vector, if the shapes are not matching, it prints a feedback message.\n",
        "\n",
        "<hr />\n",
        "\n",
        "Create a NumPy array with 25 random values between 1 and 100.\n",
        "- Reshape the array into a 5x5 matrix and calculate the sum of the diagonal elements.\n",
        "- Replace the diagonal elements with the values of the function h(x) = x^2, where x is the current value of the diagonal element.\n",
        "\n",
        "\n",
        "<hr />\n",
        "\n",
        "Create a NumPy array with the values of the function i(x) = sin(x) + 2cos(2x) - 3sin(3x), where x ranges from 0 to 2π.\n",
        "- Find the maximum and minimum values of the function and the values of x that correspond to those extrema.\n",
        "\n",
        "<hr />\n",
        "\n",
        "Create a NumPy array with 16 values.\n",
        "- Reshape the array into a 4x4 matrix and find the inverse of the matrix.\n",
        "- If the matrix is singular, print a message indicating that it has no inverse.\n",
        "\n",
        "<hr />\n",
        "\n",
        "Create a NumPy array of shape (3, 3) with random values between 1 and 10.\n",
        "- Find the index of the maximum value in each row.\n",
        "- Find the indices of the two largest values in the array.\n",
        "- Calculate the determinant of the array.\n",
        "- Create a new array with the values sorted in descending order along the diagonal. (BONUS)\n",
        "\n",
        "<hr />\n",
        "\n",
        "Create a NumPy array of shape (5, 5) with random values between 1 and 10.\n",
        "- Sort each row in ascending order.\n",
        "- Replace the maximum value in each row with the value 0.\n",
        "- Replace all even values with the value of the previous odd value in the array. (BONUS)\n",
        "\n",
        "<hr/>\n",
        "<hr/>\n",
        "\n",
        "\n",
        "\n"
      ],
      "metadata": {
        "id": "VS3RNBwZIIPG"
      }
    },
    {
      "cell_type": "code",
      "source": [
        "import numpy as np\n",
        "import random\n",
        "import math\n",
        "\n",
        "# 1. Check if two strings are anagrams\n",
        "def check_anagram():\n",
        "    str1 = input(\"Enter the first string: \").replace(\" \", \"\").lower()\n",
        "    str2 = input(\"Enter the second string: \").replace(\" \", \"\").lower()\n",
        "    if sorted(str1) == sorted(str2):\n",
        "        print(\"The strings are anagrams.\")\n",
        "    else:\n",
        "        print(\"The strings are NOT anagrams.\")\n",
        "\n",
        "check_anagram()"
      ],
      "metadata": {
        "colab": {
          "base_uri": "https://localhost:8080/"
        },
        "id": "fXzSDNktQ-oz",
        "outputId": "e9f349b7-a52b-461c-d491-d19305ea01fc"
      },
      "execution_count": 78,
      "outputs": [
        {
          "output_type": "stream",
          "name": "stdout",
          "text": [
            "Enter the first string: anas\n",
            "Enter the second string: sana\n",
            "The strings are anagrams.\n"
          ]
        }
      ]
    },
    {
      "cell_type": "code",
      "source": [
        "# 2. Multiply user-entered matrix by a random matrix of the same shape\n",
        "def multiply_user_matrix():\n",
        "    rows = int(input(\"Enter number of rows: \"))\n",
        "    cols = int(input(\"Enter number of columns: \"))\n",
        "    user_matrix = []\n",
        "    print(\"Enter the matrix row by row, space-separated:\")\n",
        "    for _ in range(rows):\n",
        "        user_matrix.append(list(map(float, input().split())))\n",
        "    user_matrix = np.array(user_matrix)\n",
        "    random_matrix = np.random.rand(rows, cols)\n",
        "    product = np.dot(user_matrix, random_matrix)\n",
        "    print(\"Random matrix:\\n\", random_matrix)\n",
        "    print(\"Product:\\n\", product)\n",
        "\n",
        "multiply_user_matrix()"
      ],
      "metadata": {
        "colab": {
          "base_uri": "https://localhost:8080/"
        },
        "id": "lspLhmsQQ-mL",
        "outputId": "95bebfc7-455e-436d-8411-153f2cfcb677"
      },
      "execution_count": 81,
      "outputs": [
        {
          "output_type": "stream",
          "name": "stdout",
          "text": [
            "Enter number of rows: 3\n",
            "Enter number of columns: 3\n",
            "Enter the matrix row by row, space-separated:\n",
            "1 2 3\n",
            "4 5 6\n",
            "7 8 9\n",
            "Random matrix:\n",
            " [[0.30269495 0.09608322 0.01599744]\n",
            " [0.10606412 0.31135563 0.51456789]\n",
            " [0.02450988 0.45497189 0.26668022]]\n",
            "Product:\n",
            " [[0.58835285 2.08371015 1.84517387]\n",
            " [1.88815972 4.67094238 4.23691051]\n",
            " [3.1879666  7.25817461 6.62864714]]\n"
          ]
        }
      ]
    },
    {
      "cell_type": "code",
      "source": [
        "# 3. Multiply matrix by vector with shape check\n",
        "def matrix_vector_multiply(matrix, vector):\n",
        "    if matrix.shape[1] != len(vector):\n",
        "        print(\"Shapes do not match! Cannot multiply.\")\n",
        "        return None\n",
        "    return np.dot(matrix, vector)\n",
        "\n",
        "matrix_example = np.array([[1,2,3],[4,5,6]])\n",
        "vector_example = np.array([1,0,1])\n",
        "result = matrix_vector_multiply(matrix_example, vector_example)\n",
        "print(\"Matrix-vector multiplication result:\", result)"
      ],
      "metadata": {
        "colab": {
          "base_uri": "https://localhost:8080/"
        },
        "id": "qPoYa8ouQ-kD",
        "outputId": "2ecd7497-d9c0-48c2-cb9f-61856fc6089f"
      },
      "execution_count": 82,
      "outputs": [
        {
          "output_type": "stream",
          "name": "stdout",
          "text": [
            "Matrix-vector multiplication result: [ 4 10]\n"
          ]
        }
      ]
    },
    {
      "cell_type": "code",
      "source": [
        "# 4. 5x5 random array, sum of diagonal, replace diagonal with h(x)=x^2\n",
        "arr25 = np.random.randint(1, 101, 25).reshape(5,5)\n",
        "print(\"Original 5x5 array:\\n\", arr25)\n",
        "diag_sum = np.trace(arr25)\n",
        "print(\"Sum of diagonal elements:\", diag_sum)\n",
        "arr25[np.diag_indices(5)] = arr25.diagonal()**2\n",
        "print(\"Array with diagonal squared:\\n\", arr25)"
      ],
      "metadata": {
        "colab": {
          "base_uri": "https://localhost:8080/"
        },
        "id": "-SutE27jReDu",
        "outputId": "e8fa715d-5b63-4467-c5ef-20a133902f00"
      },
      "execution_count": 83,
      "outputs": [
        {
          "output_type": "stream",
          "name": "stdout",
          "text": [
            "Original 5x5 array:\n",
            " [[39 99 84 92 85]\n",
            " [88 39 58 92 86]\n",
            " [ 5 77 20 34 98]\n",
            " [25 67 34 12 94]\n",
            " [46 86 79 97 49]]\n",
            "Sum of diagonal elements: 159\n",
            "Array with diagonal squared:\n",
            " [[1521   99   84   92   85]\n",
            " [  88 1521   58   92   86]\n",
            " [   5   77  400   34   98]\n",
            " [  25   67   34  144   94]\n",
            " [  46   86   79   97 2401]]\n"
          ]
        }
      ]
    },
    {
      "cell_type": "code",
      "source": [
        "# 5. Array with function i(x) = sin(x) + 2cos(2x) - 3sin(3x), x from 0 to 2pi\n",
        "x = np.linspace(0, 2*np.pi, 1000)\n",
        "i_x = np.sin(x) + 2*np.cos(2*x) - 3*np.sin(3*x)\n",
        "max_val = np.max(i_x)\n",
        "min_val = np.min(i_x)\n",
        "max_x = x[np.argmax(i_x)]\n",
        "min_x = x[np.argmin(i_x)]\n",
        "print(\"Max value:\", max_val, \"at x =\", max_x)\n",
        "print(\"Min value:\", min_val, \"at x =\", min_x)"
      ],
      "metadata": {
        "colab": {
          "base_uri": "https://localhost:8080/"
        },
        "id": "xONl68n7Rd8Z",
        "outputId": "d09a56cf-7e89-4751-9647-fc3608c04080"
      },
      "execution_count": 84,
      "outputs": [
        {
          "output_type": "stream",
          "name": "stdout",
          "text": [
            "Max value: 3.804722104922458 at x = 5.899527345479932\n",
            "Min value: -5.999955497890632 at x = 4.710816611689199\n"
          ]
        }
      ]
    },
    {
      "cell_type": "code",
      "source": [
        "# 6. 4x4 matrix inverse\n",
        "arr16 = np.random.rand(16).reshape(4,4)\n",
        "try:\n",
        "    inv_matrix = np.linalg.inv(arr16)\n",
        "    print(\"Inverse of 4x4 matrix:\\n\", inv_matrix)\n",
        "except np.linalg.LinAlgError:\n",
        "    print(\"The matrix is singular and has no inverse.\")"
      ],
      "metadata": {
        "colab": {
          "base_uri": "https://localhost:8080/"
        },
        "id": "WSU1Tf8HRlpm",
        "outputId": "2c8c938f-3ed9-43bb-e167-6b75a4ab576b"
      },
      "execution_count": 85,
      "outputs": [
        {
          "output_type": "stream",
          "name": "stdout",
          "text": [
            "Inverse of 4x4 matrix:\n",
            " [[-1.1167002  -0.28890144  2.13619342 -0.12541509]\n",
            " [ 0.3924107   0.78371707 -0.0200899  -0.90454155]\n",
            " [ 0.21111462  0.75153347 -1.68422477  0.93714906]\n",
            " [ 1.63232289 -0.74351399 -1.30714966  0.88439219]]\n"
          ]
        }
      ]
    },
    {
      "cell_type": "code",
      "source": [
        "# 7. 3x3 random array operations\n",
        "arr3 = np.random.randint(1, 11, (3,3))\n",
        "print(\"3x3 array:\\n\", arr3)\n",
        "# index of max in each row\n",
        "max_indices = np.argmax(arr3, axis=1)\n",
        "print(\"Index of max in each row:\", max_indices)\n",
        "# indices of two largest values\n",
        "flat_indices = arr3.flatten().argsort()[-2:][::-1]\n",
        "row_col_indices = np.unravel_index(flat_indices, arr3.shape)\n",
        "print(\"Indices of two largest values:\", list(zip(row_col_indices[0], row_col_indices[1])))\n",
        "# determinant\n",
        "det = np.linalg.det(arr3)\n",
        "print(\"Determinant:\", det)\n",
        "# sorted descending along diagonal\n",
        "diag_sorted = np.sort(arr3.diagonal())[::-1]\n",
        "arr3[np.diag_indices(3)] = diag_sorted\n",
        "print(\"Array with diagonal sorted descending:\\n\", arr3)"
      ],
      "metadata": {
        "colab": {
          "base_uri": "https://localhost:8080/"
        },
        "id": "D7Jt-dneRlmg",
        "outputId": "2e276614-4e69-498d-a9aa-f2a026140324"
      },
      "execution_count": 86,
      "outputs": [
        {
          "output_type": "stream",
          "name": "stdout",
          "text": [
            "3x3 array:\n",
            " [[10  8  4]\n",
            " [ 8  6  8]\n",
            " [ 9  4  1]]\n",
            "Index of max in each row: [0 0 0]\n",
            "Indices of two largest values: [(np.int64(0), np.int64(0)), (np.int64(2), np.int64(0))]\n",
            "Determinant: 164.00000000000006\n",
            "Array with diagonal sorted descending:\n",
            " [[10  8  4]\n",
            " [ 8  6  8]\n",
            " [ 9  4  1]]\n"
          ]
        }
      ]
    },
    {
      "cell_type": "code",
      "source": [
        "# 8. 5x5 random array, sort rows ascending, replace max with 0, replace even with previous odd\n",
        "arr5 = np.random.randint(1, 11, (5,5))\n",
        "print(\"Original 5x5 array:\\n\", arr5)\n",
        "# sort each row\n",
        "arr5_sorted = np.sort(arr5, axis=1)\n",
        "# replace max in each row with 0\n",
        "arr5_sorted[np.arange(5), arr5_sorted.argmax(axis=1)] = 0\n",
        "# replace even values with previous odd value\n",
        "for i in range(5):\n",
        "    for j in range(5):\n",
        "        if arr5_sorted[i,j] % 2 == 0:\n",
        "            # find previous odd in row if exists, else keep original\n",
        "            prev_odds = arr5_sorted[i,:j][arr5_sorted[i,:j] % 2 == 1]\n",
        "            if prev_odds.size > 0:\n",
        "                arr5_sorted[i,j] = prev_odds[-1]\n",
        "print(\"Modified 5x5 array:\\n\", arr5_sorted)"
      ],
      "metadata": {
        "colab": {
          "base_uri": "https://localhost:8080/"
        },
        "id": "8rPKaYyzRq1k",
        "outputId": "f4abff75-01ce-4891-88fc-a2355dc95843"
      },
      "execution_count": 87,
      "outputs": [
        {
          "output_type": "stream",
          "name": "stdout",
          "text": [
            "Original 5x5 array:\n",
            " [[ 5  7  7  2  4]\n",
            " [ 5  5  2 10  7]\n",
            " [ 1 10 10  8  7]\n",
            " [ 3  2  2  2  5]\n",
            " [ 8  9  8  1  2]]\n",
            "Modified 5x5 array:\n",
            " [[2 4 5 5 7]\n",
            " [2 5 5 7 7]\n",
            " [1 7 7 7 7]\n",
            " [2 2 2 3 3]\n",
            " [1 1 1 1 1]]\n"
          ]
        }
      ]
    },
    {
      "cell_type": "markdown",
      "source": [
        "# BONUS: 4\n",
        "<hr />\n",
        "\n",
        "Consider a random vector with shape (100,2) representing coordinates, find point by point distances considering the following coordinates:\n",
        "- (14), (83) and (100).\n",
        "- Do the previous points form a triangle?\n",
        "- Make a matrix of all the distances from every point.\n",
        "\n",
        "<hr/>\n",
        "\n",
        "- Create a 8x8 matrix and fill it with a checkerboard pattern\n",
        "\n",
        "<hr />\n",
        "\n",
        "- Create a 2d array with 1 on the border and 0 inside\n",
        "\n",
        "<hr />\n",
        "\n",
        "-\tCreate a function that takes 2 numbers (x and y) and plots a line that passes through the origin."
      ],
      "metadata": {
        "id": "EWPuNAhfI6e_"
      }
    },
    {
      "cell_type": "code",
      "source": [
        "import numpy as np\n",
        "import matplotlib.pyplot as plt\n",
        "\n",
        "# 1. Random vector with shape (100,2)\n",
        "points = np.random.rand(100, 2) * 100  # coordinates in range 0-100\n",
        "\n",
        "# Given indices (adjusting for zero-based indexing)\n",
        "indices = [14, 83, 100]  # 100 is out-of-bounds; max index is 99\n",
        "indices = [i-1 for i in indices if i-1 < 100]  # [13, 82, 99]\n",
        "\n",
        "selected_points = points[indices]\n",
        "print(\"Selected points:\\n\", selected_points)"
      ],
      "metadata": {
        "id": "wICNGne3I5wf",
        "colab": {
          "base_uri": "https://localhost:8080/"
        },
        "outputId": "614a901b-b8f7-44f8-e87d-8e0099b06571"
      },
      "execution_count": 88,
      "outputs": [
        {
          "output_type": "stream",
          "name": "stdout",
          "text": [
            "Selected points:\n",
            " [[ 8.78002719 97.92524403]\n",
            " [47.69928229 80.30545387]\n",
            " [45.91502441 92.56446902]]\n"
          ]
        }
      ]
    },
    {
      "cell_type": "code",
      "source": [
        "# 2. Distances between these points\n",
        "def euclidean_distance(p1, p2):\n",
        "    return np.linalg.norm(p1 - p2)\n",
        "\n",
        "distances = [euclidean_distance(selected_points[i], selected_points[j])\n",
        "             for i in range(len(selected_points))\n",
        "             for j in range(i+1, len(selected_points))]\n",
        "print(\"Pairwise distances:\", distances)\n",
        "\n",
        "# Check if they form a triangle (sum of any two sides > third)\n",
        "a, b, c = distances\n",
        "if a + b > c and a + c > b and b + c > a:\n",
        "    print(\"The points form a triangle.\")\n",
        "else:\n",
        "    print(\"The points do NOT form a triangle.\")"
      ],
      "metadata": {
        "id": "87-nCPb0I6H_",
        "colab": {
          "base_uri": "https://localhost:8080/"
        },
        "outputId": "2c97e588-816f-4cd7-851a-74994655c018"
      },
      "execution_count": 89,
      "outputs": [
        {
          "output_type": "stream",
          "name": "stdout",
          "text": [
            "Pairwise distances: [np.float64(42.72195480456279), np.float64(37.51994038807466), np.float64(12.388181007082482)]\n",
            "The points form a triangle.\n"
          ]
        }
      ]
    },
    {
      "cell_type": "code",
      "source": [
        "# 3. Distance matrix for all points\n",
        "diff = points[:, np.newaxis, :] - points[np.newaxis, :, :]\n",
        "distance_matrix = np.linalg.norm(diff, axis=2)\n",
        "print(\"Distance matrix shape:\", distance_matrix.shape)"
      ],
      "metadata": {
        "id": "aBFhtkkvI6FH",
        "colab": {
          "base_uri": "https://localhost:8080/"
        },
        "outputId": "5c5c2ae9-9cd9-4f5a-b970-81f7dc4b48a5"
      },
      "execution_count": 90,
      "outputs": [
        {
          "output_type": "stream",
          "name": "stdout",
          "text": [
            "Distance matrix shape: (100, 100)\n"
          ]
        }
      ]
    },
    {
      "cell_type": "code",
      "source": [
        "# 4. 8x8 checkerboard matrix\n",
        "checkerboard = np.indices((8,8)).sum(axis=0) % 2\n",
        "print(\"8x8 Checkerboard:\\n\", checkerboard)"
      ],
      "metadata": {
        "id": "nDtxxFVgI6Cy",
        "colab": {
          "base_uri": "https://localhost:8080/"
        },
        "outputId": "fc2851d2-7b58-4aa9-b74d-2e8b0ebb4c1b"
      },
      "execution_count": 91,
      "outputs": [
        {
          "output_type": "stream",
          "name": "stdout",
          "text": [
            "8x8 Checkerboard:\n",
            " [[0 1 0 1 0 1 0 1]\n",
            " [1 0 1 0 1 0 1 0]\n",
            " [0 1 0 1 0 1 0 1]\n",
            " [1 0 1 0 1 0 1 0]\n",
            " [0 1 0 1 0 1 0 1]\n",
            " [1 0 1 0 1 0 1 0]\n",
            " [0 1 0 1 0 1 0 1]\n",
            " [1 0 1 0 1 0 1 0]]\n"
          ]
        }
      ]
    },
    {
      "cell_type": "code",
      "source": [
        "# 5. 2D array with 1 on border and 0 inside\n",
        "n, m = 6, 6  # example size\n",
        "border_array = np.zeros((n,m), dtype=int)\n",
        "border_array[0,:] = border_array[-1,:] = 1\n",
        "border_array[:,0] = border_array[:,-1] = 1\n",
        "print(\"2D array with border:\\n\", border_array)"
      ],
      "metadata": {
        "colab": {
          "base_uri": "https://localhost:8080/"
        },
        "id": "3BfwqIx8QMIj",
        "outputId": "51caff18-f945-4550-b0fe-c32e24bfa182"
      },
      "execution_count": 92,
      "outputs": [
        {
          "output_type": "stream",
          "name": "stdout",
          "text": [
            "2D array with border:\n",
            " [[1 1 1 1 1 1]\n",
            " [1 0 0 0 0 1]\n",
            " [1 0 0 0 0 1]\n",
            " [1 0 0 0 0 1]\n",
            " [1 0 0 0 0 1]\n",
            " [1 1 1 1 1 1]]\n"
          ]
        }
      ]
    },
    {
      "cell_type": "code",
      "source": [
        "# 6. Function that plots a line through origin with slope y/x\n",
        "def plot_line(x, y):\n",
        "    slope = y / x\n",
        "    X = np.linspace(-10, 10, 200)\n",
        "    Y = slope * X\n",
        "    plt.plot(X, Y, label=f'Line through origin slope={slope:.2f}')\n",
        "    plt.axhline(0, color='k', linewidth=0.5)\n",
        "    plt.axvline(0, color='k', linewidth=0.5)\n",
        "    plt.legend()\n",
        "    plt.grid(True)\n",
        "    plt.show()\n",
        "\n",
        "plot_line(3, 2)"
      ],
      "metadata": {
        "colab": {
          "base_uri": "https://localhost:8080/",
          "height": 430
        },
        "id": "z4YMPal-QLq1",
        "outputId": "22a4141f-f95b-499c-c878-da0b85131f20"
      },
      "execution_count": 93,
      "outputs": [
        {
          "output_type": "display_data",
          "data": {
            "text/plain": [
              "<Figure size 640x480 with 1 Axes>"
            ],
            "image/png": "[encoded data removed]"
          },
          "metadata": {}
        }
      ]
    }
  ]
}