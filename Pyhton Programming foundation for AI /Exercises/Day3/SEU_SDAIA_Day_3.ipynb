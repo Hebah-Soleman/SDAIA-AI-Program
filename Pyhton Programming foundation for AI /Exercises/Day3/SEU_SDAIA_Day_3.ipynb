{
  "nbformat": 4,
  "nbformat_minor": 0,
  "metadata": {
    "colab": {
      "provenance": []
    },
    "kernelspec": {
      "name": "python3",
      "display_name": "Python 3"
    },
    "language_info": {
      "name": "python"
    }
  },
  "cells": [
    {
      "cell_type": "code",
      "execution_count": null,
      "metadata": {
        "id": "r87MwaxCFq_2"
      },
      "outputs": [],
      "source": [
        "class Student:\n",
        "  def __init__(self, name, ID, sec):\n",
        "    self.name = name\n",
        "    self.ID = ID\n",
        "    self.sec = sec\n",
        "    self.courses = []\n",
        "\n",
        "  def get_info(self):\n",
        "    return f\"The student {self.name} has the ID {self.ID} and section {self.sec}\"\n",
        "\n"
      ]
    },
    {
      "cell_type": "code",
      "source": [
        "class Audit(Student):\n",
        "\n",
        "  def add_course(self, cname):\n",
        "    self.courses.append(cname)"
      ],
      "metadata": {
        "id": "X8xcWWOZGH_U"
      },
      "execution_count": null,
      "outputs": []
    },
    {
      "cell_type": "code",
      "source": [
        "as1 = Audit(\"Ali\", 123, \"Online\")"
      ],
      "metadata": {
        "id": "qfHOfMwMGXh3"
      },
      "execution_count": null,
      "outputs": []
    },
    {
      "cell_type": "code",
      "source": [
        "class Undergrad(Student):\n",
        "  def __init__(self, name, ID, sec):\n",
        "    super().__init__(name, ID, sec)\n",
        "    self.grades = {}\n",
        "\n",
        "  def add_grades(self, sname, sgrade):\n",
        "    self.courses.append(sname)\n",
        "    self.grades[sname] = sgrade\n",
        "\n",
        "  def get_gpa(self):\n",
        "    total = 0\n",
        "    count = 0\n",
        "    for key, value in self.grades.items():\n",
        "      total = total + value\n",
        "      count += 1\n",
        "\n",
        "    return total/count\n",
        "\n"
      ],
      "metadata": {
        "id": "vlfsLbZTHNRw"
      },
      "execution_count": null,
      "outputs": []
    },
    {
      "cell_type": "code",
      "source": [
        "class Graduate(Student):\n",
        "\n",
        "  def __init__(self, name, ID, sec):\n",
        "    super().__init__(name, ID, sec)\n",
        "    self.research = []\n",
        "\n",
        "  def add_research(self, paper):\n",
        "    self.research.append(paper)\n",
        "\n",
        "  def get_research(self):\n",
        "    return \", \".join(self.research)"
      ],
      "metadata": {
        "id": "OUHbOPt5HNPB"
      },
      "execution_count": null,
      "outputs": []
    },
    {
      "cell_type": "code",
      "source": [
        "gs1 = Graduate(\"Ammar\", 789, \"Online\")"
      ],
      "metadata": {
        "id": "t28Erz55HNMZ"
      },
      "execution_count": null,
      "outputs": []
    },
    {
      "cell_type": "code",
      "source": [
        "gs1.add_research(\"AI first paper\")"
      ],
      "metadata": {
        "id": "jAbQbZjWJklN"
      },
      "execution_count": null,
      "outputs": []
    },
    {
      "cell_type": "code",
      "source": [
        "gs1.add_research(\"AI second paper\")"
      ],
      "metadata": {
        "id": "WB6qa-gHJr5s"
      },
      "execution_count": null,
      "outputs": []
    },
    {
      "cell_type": "code",
      "source": [
        "gs1.get_research()"
      ],
      "metadata": {
        "colab": {
          "base_uri": "https://localhost:8080/",
          "height": 35
        },
        "id": "QGnxIwEQJv0x",
        "outputId": "c999226b-ab17-421b-ae39-c8e084ec0289"
      },
      "execution_count": null,
      "outputs": [
        {
          "output_type": "execute_result",
          "data": {
            "text/plain": [
              "'AI first paper, AI second paper'"
            ],
            "application/vnd.google.colaboratory.intrinsic+json": {
              "type": "string"
            }
          },
          "metadata": {},
          "execution_count": 13
        }
      ]
    },
    {
      "cell_type": "code",
      "source": [
        "gs1.get_info()"
      ],
      "metadata": {
        "colab": {
          "base_uri": "https://localhost:8080/",
          "height": 35
        },
        "id": "UBTfRcVcJ002",
        "outputId": "340fd27a-fedc-495e-a604-e26ebe2bcc35"
      },
      "execution_count": null,
      "outputs": [
        {
          "output_type": "execute_result",
          "data": {
            "text/plain": [
              "'The student Ammar has the ID 789 and section Online'"
            ],
            "application/vnd.google.colaboratory.intrinsic+json": {
              "type": "string"
            }
          },
          "metadata": {},
          "execution_count": 14
        }
      ]
    },
    {
      "cell_type": "code",
      "source": [
        "us1 = Undergrad(\"Nouf\", 456, \"inPerson\")"
      ],
      "metadata": {
        "id": "8eL5PQRqHNJ6"
      },
      "execution_count": null,
      "outputs": []
    },
    {
      "cell_type": "code",
      "source": [
        "us1.get_info()"
      ],
      "metadata": {
        "colab": {
          "base_uri": "https://localhost:8080/",
          "height": 35
        },
        "id": "qP-swNbzIN2C",
        "outputId": "9a0880c4-dbe9-4722-8a6e-d7d9f73672fe"
      },
      "execution_count": null,
      "outputs": [
        {
          "output_type": "execute_result",
          "data": {
            "text/plain": [
              "'The student Nouf has the ID 456 and section inPerson'"
            ],
            "application/vnd.google.colaboratory.intrinsic+json": {
              "type": "string"
            }
          },
          "metadata": {},
          "execution_count": 7
        }
      ]
    },
    {
      "cell_type": "code",
      "source": [
        "us1.courses"
      ],
      "metadata": {
        "colab": {
          "base_uri": "https://localhost:8080/"
        },
        "id": "upbKvW6oIYsd",
        "outputId": "3c382162-b600-45af-aaf9-ad2fbb8a0931"
      },
      "execution_count": null,
      "outputs": [
        {
          "output_type": "execute_result",
          "data": {
            "text/plain": [
              "[]"
            ]
          },
          "metadata": {},
          "execution_count": 8
        }
      ]
    },
    {
      "cell_type": "code",
      "source": [
        "as1.get_info()"
      ],
      "metadata": {
        "colab": {
          "base_uri": "https://localhost:8080/",
          "height": 35
        },
        "id": "n7geXGW3GiGv",
        "outputId": "edd6179e-0aba-41a0-ea0f-8a27df87db44"
      },
      "execution_count": null,
      "outputs": [
        {
          "output_type": "execute_result",
          "data": {
            "text/plain": [
              "'The student Ali has the ID 123 and section Online'"
            ],
            "application/vnd.google.colaboratory.intrinsic+json": {
              "type": "string"
            }
          },
          "metadata": {},
          "execution_count": 4
        }
      ]
    },
    {
      "cell_type": "code",
      "source": [],
      "metadata": {
        "id": "Npf_ftu2GlPR"
      },
      "execution_count": null,
      "outputs": []
    },
    {
      "cell_type": "code",
      "source": [
        "#Numpy Exercises"
      ],
      "metadata": {
        "id": "YWpkjvoZVGEU"
      },
      "execution_count": null,
      "outputs": []
    },
    {
      "cell_type": "code",
      "source": [
        "import numpy as np\n",
        "import time"
      ],
      "metadata": {
        "id": "qwQerdrKVGB2"
      },
      "execution_count": null,
      "outputs": []
    },
    {
      "cell_type": "code",
      "source": [
        "npoints  =1000\n",
        "p = np.arange(npoints)"
      ],
      "metadata": {
        "id": "_NTwzTXMVF_o"
      },
      "execution_count": null,
      "outputs": []
    },
    {
      "cell_type": "code",
      "source": [
        "#d(i,j) = np.abs(pi - pj)\n",
        "s = time.time()\n",
        "d = np.zeros((npoints, npoints))\n",
        "for i in p:\n",
        "  for j in p:\n",
        "    d[i,j] = np.abs(i - j)\n",
        "\n",
        "st = time.time()\n",
        "print(st- s)"
      ],
      "metadata": {
        "colab": {
          "base_uri": "https://localhost:8080/"
        },
        "id": "rgvr8CUqVF9L",
        "outputId": "0fd213b5-93df-4f7b-a9ed-eb9a72678767"
      },
      "execution_count": null,
      "outputs": [
        {
          "output_type": "stream",
          "name": "stdout",
          "text": [
            "1.6474084854125977\n"
          ]
        }
      ]
    },
    {
      "cell_type": "code",
      "source": [
        "s = time.time()\n",
        "d = np.abs(p.reshape(1, -1) - p.reshape(-1, 1))\n",
        "st = time.time()\n",
        "print(st-s)"
      ],
      "metadata": {
        "colab": {
          "base_uri": "https://localhost:8080/"
        },
        "id": "ljGbkN_-V6mC",
        "outputId": "86b91024-384b-4780-c718-02305599af6d"
      },
      "execution_count": null,
      "outputs": [
        {
          "output_type": "stream",
          "name": "stdout",
          "text": [
            "0.008675575256347656\n"
          ]
        }
      ]
    },
    {
      "cell_type": "markdown",
      "source": [],
      "metadata": {
        "id": "BLkYSc8uXnK1"
      }
    },
    {
      "cell_type": "code",
      "source": [
        "d[:10,:10]"
      ],
      "metadata": {
        "id": "hxDVHIUDV-SZ"
      },
      "execution_count": null,
      "outputs": []
    },
    {
      "cell_type": "code",
      "source": [],
      "metadata": {
        "id": "7QHxT-GrWWcp"
      },
      "execution_count": null,
      "outputs": []
    }
  ]
}