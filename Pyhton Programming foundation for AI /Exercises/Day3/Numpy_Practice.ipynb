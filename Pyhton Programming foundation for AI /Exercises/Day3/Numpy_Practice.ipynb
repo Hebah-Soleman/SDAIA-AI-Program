{
  "nbformat": 4,
  "nbformat_minor": 0,
  "metadata": {
    "colab": {
      "provenance": []
    },
    "kernelspec": {
      "name": "python3",
      "display_name": "Python 3"
    },
    "language_info": {
      "name": "python"
    }
  },
  "cells": [
    {
      "cell_type": "markdown",
      "metadata": {
        "id": "430cEIv0aDLu"
      },
      "source": [
        "![image.png](https://i.imgur.com/a3uAqnb.png)"
      ]
    },
    {
      "cell_type": "markdown",
      "source": [
        "# **Numpy Exercises**\n",
        "\n",
        "## Super easy\n",
        "- Basic implementations and beginners level problems with numpy.\n",
        "\n",
        "## Easy\n",
        "- Simple operations on numpy arrays.\n",
        "\n",
        "## Mild\n",
        "- A combination of simple operations & manipulations.\n",
        "\n",
        "## Hard\n",
        "- More complex combination of operations and manipulations.\n",
        "\n",
        "## Super hard (BONUS)\n",
        "- Innovative questions with more advanced manipulations and operations"
      ],
      "metadata": {
        "id": "ykyA-jvxSkze"
      }
    },
    {
      "cell_type": "markdown",
      "source": [
        "## Total Questions: 43"
      ],
      "metadata": {
        "id": "7rus_2FEhTuZ"
      }
    },
    {
      "cell_type": "markdown",
      "source": [
        "\n",
        "# Super Easy: 10\n",
        "<hr />\n",
        "\n",
        "- Create a NumPy array with the values [1, 2, 3, 4, 5].\n",
        "\n",
        "<hr />\n",
        "\n",
        "- Create a NumPy array with 10 zeros.\n",
        "\n",
        "<hr />\n",
        "\n",
        "- Create a NumPy array with 5 random integers between 1 and 10.\n",
        "\n",
        "<hr />\n",
        "\n",
        "- Create a NumPy array of shape (3, 3) with all values set to 1.\n",
        "\n",
        "<hr />\n",
        "\n",
        "- Create a NumPy array with the values [[1, 2], [3, 4], [5, 6]].\n",
        "\n",
        "<hr />\n",
        "\n",
        "- Create a NumPy array with the first 10 even numbers starting from 0.\n",
        "\n",
        "<hr />\n",
        "\n",
        "- Create a NumPy array with the numbers from 1 to 10 in reverse order.\n",
        "\n",
        "<hr />\n",
        "\n",
        "- Create a NumPy array with the values of the function f(x) = 2x - 1, where x ranges from 0 to 4.\n",
        "\n",
        "<hr />\n",
        "\n",
        "- Create a NumPy array with 10 equally spaced values between 0 and 1.\n",
        "\n",
        "<hr />\n",
        "<hr/>"
      ],
      "metadata": {
        "id": "u4Kbb5SoIip7"
      }
    },
    {
      "cell_type": "code",
      "source": [],
      "metadata": {
        "id": "bQWH4KA4Ik6d"
      },
      "execution_count": null,
      "outputs": []
    },
    {
      "cell_type": "code",
      "source": [],
      "metadata": {
        "id": "UdfgAGhjIk2-"
      },
      "execution_count": null,
      "outputs": []
    },
    {
      "cell_type": "code",
      "source": [],
      "metadata": {
        "id": "vjuGFE11IkyO"
      },
      "execution_count": null,
      "outputs": []
    },
    {
      "cell_type": "code",
      "source": [],
      "metadata": {
        "id": "wQ99qRg8Iktl"
      },
      "execution_count": null,
      "outputs": []
    },
    {
      "cell_type": "code",
      "source": [],
      "metadata": {
        "id": "3Rub11JlIkpP"
      },
      "execution_count": null,
      "outputs": []
    },
    {
      "cell_type": "code",
      "source": [],
      "metadata": {
        "id": "3wJoJt8fIkme"
      },
      "execution_count": null,
      "outputs": []
    },
    {
      "cell_type": "markdown",
      "source": [
        "\n",
        "\n",
        "# Easy: 13\n",
        "<hr />\n",
        "\n",
        "- Implement a function that takes in a matrix and returns its transpose using a nested loop.\n",
        "\n",
        "<hr />\n",
        "\n",
        "-\tMap the first 5 letters of the alphabet to the first 5 numbers using a dictionary.\n",
        "\n",
        "<hr />\n",
        "\n",
        "- Create a NumPy array of shape (3, 3) with the values [[1, 2, 3], [4, 5, 6], [7, 8, 9]]. Replace all odd indices with -1.\n",
        "\n",
        "<hr />\n",
        "\n",
        "- Create a NumPy array of shape (4, 4) with random values between 1 and 10. Replace all values less than the mean with 0.\n",
        "\n",
        "<hr />\n",
        "\n",
        "- Create a NumPy array of shape (3, 3) with the values [[1, 2, 3], [4, 5, 6], [7, 8, 9]]. Reverse the order of the rows in the array.\n",
        "\n",
        "<hr />\n",
        "\n",
        "Create a NumPy array of shape (3, 3) with random values between 1 and 10.\n",
        "- Calculate the dot product of the array with itself.\n",
        "\n",
        "<hr />\n",
        "\n",
        "- Create a 4x4 matrix with values ranging from 0 to 15\n",
        "\n",
        "<hr />\n",
        "\n",
        "- Create a 10x10 array with random values and find the minimum and maximum values\n",
        "\n",
        "<hr />\n",
        "\n",
        "- Create a 5x5 matrix with row values ranging from 0 to 4\n",
        "\n",
        "<hr />\n",
        "\n",
        "- Create a random vector of size 10 and sort it\n",
        "\n",
        "<hr />\n",
        "\n",
        "- Consider two random array A and B, check if they are equal\n",
        "\n",
        "<hr />\n",
        "\n",
        "- Create random vector of size 10 and replace the maximum value by 0\n",
        "\n",
        "<hr />\n",
        "\n",
        "- Create a random vector of size 30 and find the mean value\n",
        "\n",
        "<hr/>\n",
        "<hr/>"
      ],
      "metadata": {
        "id": "r300cLjiIp6T"
      }
    },
    {
      "cell_type": "code",
      "source": [],
      "metadata": {
        "id": "D5NWpFSSI1g7"
      },
      "execution_count": null,
      "outputs": []
    },
    {
      "cell_type": "code",
      "source": [],
      "metadata": {
        "id": "YmpPSbWjI1eQ"
      },
      "execution_count": null,
      "outputs": []
    },
    {
      "cell_type": "code",
      "source": [],
      "metadata": {
        "id": "qO8NxLihI1be"
      },
      "execution_count": null,
      "outputs": []
    },
    {
      "cell_type": "code",
      "source": [],
      "metadata": {
        "id": "PmMskwzYI1Yl"
      },
      "execution_count": null,
      "outputs": []
    },
    {
      "cell_type": "code",
      "source": [],
      "metadata": {
        "id": "tWmmCqV9I1Vv"
      },
      "execution_count": null,
      "outputs": []
    },
    {
      "cell_type": "code",
      "source": [],
      "metadata": {
        "id": "KYoR5lAjI1TG"
      },
      "execution_count": null,
      "outputs": []
    },
    {
      "cell_type": "markdown",
      "source": [
        "\n",
        "\n",
        "\n",
        "# Mild: 8\n",
        "<hr />\n",
        "\n",
        "-\tImplement a function in Python that takes in a list of integers and returns the sum of the squares of all the even numbers in the list. (mild)\n",
        "\n",
        "<hr />\n",
        "\n",
        "-\tWrite a Python program that generates a random number between 1 and 100 and prompts the user to guess the number. The program should give the user feedback on whether their guess is too high or too low. (mild)\n",
        "\n",
        "<hr />\n",
        "\n",
        "-   Create a NumPy array from 0 to 100, from said array return the primes\n",
        "\n",
        "<hr />\n",
        "\n",
        "Write a Python program that prompts the user to enter two lists (L1 and L2)\n",
        "\n",
        "-\treturn the list of all elements of the intersection of the two sequences in any order.\n",
        "-\treturn the list of all elements of the union of the two sequences in any order.\n",
        "\n",
        "<hr />\n",
        "\n",
        "- Create a NumPy array of shape (5, 5) with random values between 0 and 1. Replace all values less than 0.5 with 0.\n",
        "\n",
        "<hr />\n",
        "\n",
        "Create a NumPy array of shape (3, 3) with random values between 1 and 10.\n",
        "- Create a new array with the values sorted along the first column.\n",
        "- Subtract the mean of each row from each element in that row.\n",
        "- Find the diagonal elements of the array and return them in a new array.\n",
        "\n",
        "<hr />\n",
        "\n",
        "Create a NumPy array with 10 random values between 0 and 1.\n",
        "- Sort the array in ascending order and replace the smallest value with 0.\n",
        "\n",
        "<hr />\n",
        "\n",
        "Create a NumPy array with 9 values.\n",
        "- Reshape the array into a 3x3 matrix and calculate the determinant of the matrix.\n",
        "\n",
        "<hr />\n",
        "\n",
        "- Create a method that multiplies two matrices of the following dimensions 5x3 and 3x5, and compute the determinant of the result.\n",
        "\n",
        "<hr/>\n",
        "<hr/>"
      ],
      "metadata": {
        "id": "-Ier-qdQI0Bt"
      }
    },
    {
      "cell_type": "code",
      "source": [],
      "metadata": {
        "id": "wkutW1YcI2wH"
      },
      "execution_count": null,
      "outputs": []
    },
    {
      "cell_type": "code",
      "source": [],
      "metadata": {
        "id": "rbxf7brXI2st"
      },
      "execution_count": null,
      "outputs": []
    },
    {
      "cell_type": "code",
      "source": [],
      "metadata": {
        "id": "ETno0SRAI2qF"
      },
      "execution_count": null,
      "outputs": []
    },
    {
      "cell_type": "code",
      "source": [],
      "metadata": {
        "id": "qqxN76meI2nM"
      },
      "execution_count": null,
      "outputs": []
    },
    {
      "cell_type": "code",
      "source": [],
      "metadata": {
        "id": "q9v0u9moI2ky"
      },
      "execution_count": null,
      "outputs": []
    },
    {
      "cell_type": "markdown",
      "source": [
        "\n",
        "\n",
        "# Hard: 8\n",
        "<hr />\n",
        "\n",
        "-\tWrite a Python program that prompts the user to enter two strings and then prints out whether the two strings are anagrams (i.e. contain the same letters in a different order).\n",
        "\n",
        "<hr />\n",
        "\n",
        "-\tWrite a Python program that prompts the user to enter a matrix, and create a random one with the same shape, then calculates their product.\n",
        "\n",
        "<hr />\n",
        "\n",
        "-\tImplement a function that takes in a matrix and a vector and returns the result of multiplying the matrix by the vector, if the shapes are not matching, it prints a feedback message.\n",
        "\n",
        "<hr />\n",
        "\n",
        "Create a NumPy array with 25 random values between 1 and 100.\n",
        "- Reshape the array into a 5x5 matrix and calculate the sum of the diagonal elements.\n",
        "- Replace the diagonal elements with the values of the function h(x) = x^2, where x is the current value of the diagonal element.\n",
        "\n",
        "\n",
        "<hr />\n",
        "\n",
        "Create a NumPy array with the values of the function i(x) = sin(x) + 2cos(2x) - 3sin(3x), where x ranges from 0 to 2π.\n",
        "- Find the maximum and minimum values of the function and the values of x that correspond to those extrema.\n",
        "\n",
        "<hr />\n",
        "\n",
        "Create a NumPy array with 16 values.\n",
        "- Reshape the array into a 4x4 matrix and find the inverse of the matrix.\n",
        "- If the matrix is singular, print a message indicating that it has no inverse.\n",
        "\n",
        "<hr />\n",
        "\n",
        "Create a NumPy array of shape (3, 3) with random values between 1 and 10.\n",
        "- Find the index of the maximum value in each row.\n",
        "- Find the indices of the two largest values in the array.\n",
        "- Calculate the determinant of the array.\n",
        "- Create a new array with the values sorted in descending order along the diagonal. (BONUS)\n",
        "\n",
        "<hr />\n",
        "\n",
        "Create a NumPy array of shape (5, 5) with random values between 1 and 10.\n",
        "- Sort each row in ascending order.\n",
        "- Replace the maximum value in each row with the value 0.\n",
        "- Replace all even values with the value of the previous odd value in the array. (BONUS)\n",
        "\n",
        "<hr/>\n",
        "<hr/>\n",
        "\n",
        "\n",
        "\n"
      ],
      "metadata": {
        "id": "VS3RNBwZIIPG"
      }
    },
    {
      "cell_type": "code",
      "source": [],
      "metadata": {
        "id": "wICNGne3I5wf"
      },
      "execution_count": null,
      "outputs": []
    },
    {
      "cell_type": "code",
      "source": [],
      "metadata": {
        "id": "87-nCPb0I6H_"
      },
      "execution_count": null,
      "outputs": []
    },
    {
      "cell_type": "code",
      "source": [],
      "metadata": {
        "id": "aBFhtkkvI6FH"
      },
      "execution_count": null,
      "outputs": []
    },
    {
      "cell_type": "code",
      "source": [],
      "metadata": {
        "id": "nDtxxFVgI6Cy"
      },
      "execution_count": null,
      "outputs": []
    },
    {
      "cell_type": "markdown",
      "source": [
        "# BONUS: 4\n",
        "<hr />\n",
        "\n",
        "Consider a random vector with shape (100,2) representing coordinates, find point by point distances considering the following coordinates:\n",
        "- (14), (83) and (100).\n",
        "- Do the previous points form a triangle?\n",
        "- Make a matrix of all the distances from every point.\n",
        "\n",
        "<hr/>\n",
        "\n",
        "- Create a 8x8 matrix and fill it with a checkerboard pattern\n",
        "\n",
        "<hr />\n",
        "\n",
        "- Create a 2d array with 1 on the border and 0 inside\n",
        "\n",
        "<hr />\n",
        "\n",
        "-\tCreate a function that takes 2 numbers (x and y) and plots a line that passes through the origin."
      ],
      "metadata": {
        "id": "EWPuNAhfI6e_"
      }
    }
  ]
}