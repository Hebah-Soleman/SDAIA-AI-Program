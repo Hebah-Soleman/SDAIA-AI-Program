{
 "cells": [
  {
   "cell_type": "markdown",
   "id": "7afdc06d",
   "metadata": {},
   "source": [
    "# Python Exercises\n",
    "These exercises are designed to practice loops, conditionals, and basic data structures."
   ]
  },
  {
   "cell_type": "markdown",
   "id": "bb037130",
   "metadata": {},
   "source": [
    "### Exercise 1 — Extract even numbers\n",
    "Given a list of integers, create a **new list** containing only the even numbers. Print the result."
   ]
  },
  {
   "cell_type": "code",
   "execution_count": null,
   "id": "fb3ac152",
   "metadata": {},
   "outputs": [],
   "source": [
    "# Your solution here\n",
    "\n",
    "nums = [11, 22, 33, 44, 55, 60]\n",
    "only_evens = []\n",
    "# TODO\n",
    "print(only_evens)  # [22, 44, 60]"
   ]
  },
  {
   "cell_type": "markdown",
   "id": "f97be2fe",
   "metadata": {},
   "source": [
    "### Exercise 2 — Squares divisible by 3\n",
    "Create a list of squares for numbers from 1 to 20 **only if** the number is divisible by 3."
   ]
  },
  {
   "cell_type": "code",
   "execution_count": null,
   "id": "a10528b6",
   "metadata": {},
   "outputs": [],
   "source": [
    "# Your solution here\n",
    "\n",
    "squares = []\n",
    "# TODO\n",
    "print(squares)  # [9, 36, 81, 144, 225, 324]"
   ]
  },
  {
   "cell_type": "markdown",
   "id": "13a55e9a",
   "metadata": {},
   "source": [
    "### Exercise 3 — Capitalize first letter of each word\n",
    "Given a sentence, capitalize **only** the first character of each word and keep the rest as is."
   ]
  },
  {
   "cell_type": "code",
   "execution_count": 1,
   "id": "cc7a864b",
   "metadata": {},
   "outputs": [
    {
     "name": "stdout",
     "output_type": "stream",
     "text": [
      "\n"
     ]
    }
   ],
   "source": [
    "# Your solution here\n",
    "\n",
    "sentence = \"python is AWESOME\"\n",
    "# Expected: \"Python Is AWESOME\"\n",
    "result = ''\n",
    "# TODO\n",
    "print(result)"
   ]
  },
  {
   "cell_type": "markdown",
   "id": "bf4f44be",
   "metadata": {},
   "source": [
    "### Exercise 4 — Anagram of \"listen\"\n",
    "Write a function `is_anagram_of_listen(s)` that returns `True` if `s` is an anagram of the word **\"listen\"**. Ignore spaces and case.\n",
    "\n",
    "Note: Anagram is another word that contain the same letters, for example: \"llHeo\" is an anagram of \"Hello\""
   ]
  },
  {
   "cell_type": "code",
   "execution_count": null,
   "id": "d33c59b7",
   "metadata": {},
   "outputs": [],
   "source": [
    "# Your solution here\n",
    "\n",
    "def is_anagram_of_listen(s):\n",
    "    # TODO: normalize (remove spaces, lower), then compare by sorting OR counting via a loop\n",
    "    return False\n",
    "\n",
    "print(is_anagram_of_listen(\"Silent\"))     # True\n",
    "print(is_anagram_of_listen(\"Listen \"))    # True\n",
    "print(is_anagram_of_listen(\"Tinsel\"))     # True\n",
    "print(is_anagram_of_listen(\"Stone\"))      # False"
   ]
  },
  {
   "cell_type": "markdown",
   "id": "45a5e659",
   "metadata": {},
   "source": [
    "### Exercise 5 — Numbers divisible by 8 but not by 6\n",
    "Create a list of numbers between **50 and 500** (inclusive) that are divisible by **8** but **not** by **6** using a loop. Then print them in a **comma-separated** sequence on a single line."
   ]
  },
  {
   "cell_type": "code",
   "execution_count": 2,
   "id": "5528a95d",
   "metadata": {},
   "outputs": [],
   "source": [
    "# Your solution here\n",
    "\n",
    "nums = []\n",
    "# TODO: build nums\n",
    "# Then print comma-separated (you may build a list of strings via loop and use join)\n"
   ]
  },
  {
   "cell_type": "markdown",
   "id": "9ecc2913",
   "metadata": {},
   "source": [
    "### Exercise 6 — Word length dictionary\n",
    "Write a function that takes a sentence and returns a dictionary where keys are words and values are their lengths."
   ]
  },
  {
   "cell_type": "code",
   "execution_count": 4,
   "id": "7c40a1d2",
   "metadata": {},
   "outputs": [
    {
     "name": "stdout",
     "output_type": "stream",
     "text": [
      "{}\n"
     ]
    }
   ],
   "source": [
    "# Your solution here\n",
    "\n",
    "def word_lengths(sentence):\n",
    "    lengths = {}\n",
    "    # TODO\n",
    "    return lengths\n",
    "\n",
    "print(word_lengths(\"I love Python\"))  # {'I': 1, 'love': 4, 'Python': 6}"
   ]
  },
  {
   "cell_type": "markdown",
   "id": "fefa5d2f",
   "metadata": {},
   "source": [
    "### Exercise 7 — Remove vowels\n",
    "Given a string, return the same string but **without vowels** (`a, e, i, o, u`), ignoring case."
   ]
  },
  {
   "cell_type": "code",
   "execution_count": 5,
   "id": "44c60900",
   "metadata": {},
   "outputs": [
    {
     "name": "stdout",
     "output_type": "stream",
     "text": [
      "\n"
     ]
    }
   ],
   "source": [
    "# Your solution here\n",
    "\n",
    "def remove_vowels(s):\n",
    "    # TODO:\n",
    "    return ''\n",
    "\n",
    "print(remove_vowels(\"Beautiful Day\"))  # \"Btfl Dy\""
   ]
  },
  {
   "cell_type": "markdown",
   "id": "b5610180",
   "metadata": {},
   "source": [
    "### Exercise 8 — Palindrome (ignore spaces & case)\n",
    "Write a function that returns `True` if a string is a palindrome when ignoring spaces and case, else `False`."
   ]
  },
  {
   "cell_type": "code",
   "execution_count": null,
   "id": "48d257e1",
   "metadata": {},
   "outputs": [],
   "source": [
    "# Your solution here\n",
    "\n",
    "def is_palindrome(s):\n",
    "    # TODO: normalize then check\n",
    "    return False\n",
    "\n",
    "print(is_palindrome(\"Never odd or even\"))  # True\n",
    "print(is_palindrome(\"Hello\"))              # False"
   ]
  },
  {
   "cell_type": "markdown",
   "id": "acbf52be",
   "metadata": {},
   "source": [
    "### Exercise 9 — Character frequency counter\n",
    "Write a function that counts the frequency of each character in a string and returns a dictionary. Ignore case, and include spaces in the count."
   ]
  },
  {
   "cell_type": "code",
   "execution_count": 6,
   "id": "97c971df",
   "metadata": {},
   "outputs": [
    {
     "name": "stdout",
     "output_type": "stream",
     "text": [
      "{}\n"
     ]
    }
   ],
   "source": [
    "# Your solution here\n",
    "\n",
    "def char_freq(s):\n",
    "    counts = {}\n",
    "    # TODO:\n",
    "    return counts\n",
    "\n",
    "print(char_freq(\"Hello World\"))"
   ]
  }
 ],
 "metadata": {
  "kernelspec": {
   "display_name": ".venv",
   "language": "python",
   "name": "python3"
  },
  "language_info": {
   "codemirror_mode": {
    "name": "ipython",
    "version": 3
   },
   "file_extension": ".py",
   "mimetype": "text/x-python",
   "name": "python",
   "nbconvert_exporter": "python",
   "pygments_lexer": "ipython3",
   "version": "3.9.6"
  }
 },
 "nbformat": 4,
 "nbformat_minor": 5
}
