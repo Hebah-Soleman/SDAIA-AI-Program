{
  "cells": [
    {
      "cell_type": "markdown",
      "id": "7afdc06d",
      "metadata": {
        "id": "7afdc06d"
      },
      "source": [
        "# Python Exercises\n",
        "These exercises are designed to practice loops, conditionals, and basic data structures."
      ]
    },
    {
      "cell_type": "markdown",
      "id": "bb037130",
      "metadata": {
        "id": "bb037130"
      },
      "source": [
        "### Exercise 1 — Extract even numbers\n",
        "Given a list of integers, create a **new list** containing only the even numbers. Print the result."
      ]
    },
    {
      "cell_type": "code",
      "execution_count": null,
      "id": "fb3ac152",
      "metadata": {
        "colab": {
          "base_uri": "https://localhost:8080/"
        },
        "id": "fb3ac152",
        "outputId": "651b55b8-0203-496b-fda8-4575cfd396b6"
      },
      "outputs": [
        {
          "name": "stdout",
          "output_type": "stream",
          "text": [
            "[22, 44, 60]\n"
          ]
        }
      ],
      "source": [
        "nums = [11, 22, 33, 44, 55, 60]\n",
        "only_evens = []\n",
        "for num in nums:\n",
        "  if num % 2 == 0:\n",
        "    only_evens.append(num)\n",
        "print(only_evens)  # [22, 44, 60]"
      ]
    },
    {
      "cell_type": "markdown",
      "id": "f97be2fe",
      "metadata": {
        "id": "f97be2fe"
      },
      "source": [
        "### Exercise 2 — Squares divisible by 3\n",
        "Create a list of squares for numbers from 1 to 20 **only if** the number is divisible by 3."
      ]
    },
    {
      "cell_type": "code",
      "execution_count": null,
      "id": "a10528b6",
      "metadata": {
        "colab": {
          "base_uri": "https://localhost:8080/"
        },
        "id": "a10528b6",
        "outputId": "f2d5fe1d-ce26-428c-a256-b06c072ba367"
      },
      "outputs": [
        {
          "name": "stdout",
          "output_type": "stream",
          "text": [
            "[9, 36, 81, 144, 225, 324]\n"
          ]
        }
      ],
      "source": [
        "squares = []\n",
        "for num in range(1, 21):\n",
        "  if num % 3 == 0:\n",
        "    squares.append(num ** 2)\n",
        "print(squares)  # [9, 36, 81, 144, 225, 324]"
      ]
    },
    {
      "cell_type": "markdown",
      "id": "13a55e9a",
      "metadata": {
        "id": "13a55e9a"
      },
      "source": [
        "### Exercise 3 — Capitalize first letter of each word\n",
        "Given a sentence, capitalize **only** the first character of each word and keep the rest as is."
      ]
    },
    {
      "cell_type": "code",
      "execution_count": null,
      "id": "cc7a864b",
      "metadata": {
        "colab": {
          "base_uri": "https://localhost:8080/"
        },
        "id": "cc7a864b",
        "outputId": "62c66faf-348f-4c44-d60b-09dc3423c7e4"
      },
      "outputs": [
        {
          "name": "stdout",
          "output_type": "stream",
          "text": [
            "Python Is AWESOME\n"
          ]
        }
      ],
      "source": [
        "sentence = \"python is AWESOME\"\n",
        "# Expected: \"Python Is AWESOME\"\n",
        "\n",
        "result = sentence.split()\n",
        "for i in range(len(result)):\n",
        "  result[i] = result[i][0].upper() + result[i][1:]\n",
        "result = ' '.join(result)\n",
        "print(result)"
      ]
    },
    {
      "cell_type": "markdown",
      "id": "bf4f44be",
      "metadata": {
        "id": "bf4f44be"
      },
      "source": [
        "### Exercise 4 — Anagram of \"listen\"\n",
        "Write a function `is_anagram_of_listen(s)` that returns `True` if `s` is an anagram of the word **\"listen\"**. Ignore spaces and case.\n",
        "\n",
        "Note: Anagram is another word that contain the same letters, for example: \"llHeo\" is an anagram of \"Hello\""
      ]
    },
    {
      "cell_type": "code",
      "execution_count": null,
      "id": "d33c59b7",
      "metadata": {
        "colab": {
          "base_uri": "https://localhost:8080/"
        },
        "id": "d33c59b7",
        "outputId": "9afe1917-c0d3-4196-e1d9-0d6f6a69dc85"
      },
      "outputs": [
        {
          "name": "stdout",
          "output_type": "stream",
          "text": [
            "True\n",
            "True\n",
            "True\n",
            "False\n"
          ]
        }
      ],
      "source": [
        "def is_anagram_of_listen(s):\n",
        "    if sorted(s.replace(\" \", \"\").lower()) == sorted(\"listen\"):\n",
        "      return True\n",
        "    return False\n",
        "\n",
        "print(is_anagram_of_listen(\"Silent\"))     # True\n",
        "print(is_anagram_of_listen(\"Listen \"))    # True\n",
        "print(is_anagram_of_listen(\"Tinsel\"))     # True\n",
        "print(is_anagram_of_listen(\"Stone\"))      # False"
      ]
    },
    {
      "cell_type": "markdown",
      "id": "45a5e659",
      "metadata": {
        "id": "45a5e659"
      },
      "source": [
        "### Exercise 5 — Numbers divisible by 8 but not by 6\n",
        "Create a list of numbers between **50 and 500** (inclusive) that are divisible by **8** but **not** by **6** using a loop. Then print them in a **comma-separated** sequence on a single line."
      ]
    },
    {
      "cell_type": "code",
      "execution_count": null,
      "id": "5528a95d",
      "metadata": {
        "colab": {
          "base_uri": "https://localhost:8080/"
        },
        "id": "5528a95d",
        "outputId": "2212f67c-eaa7-4379-bb71-1f333f2c5b5d"
      },
      "outputs": [
        {
          "name": "stdout",
          "output_type": "stream",
          "text": [
            "56, 64, 80, 88, 104, 112, 128, 136, 152, 160, 176, 184, 200, 208, 224, 232, 248, 256, 272, 280, 296, 304, 320, 328, 344, 352, 368, 376, 392, 400, 416, 424, 440, 448, 464, 472, 488, 496\n"
          ]
        }
      ],
      "source": [
        "nums = []\n",
        "for num in range(50, 501):\n",
        "  if num % 8 == 0 and num % 6 != 0:\n",
        "    nums.append(str(num))\n",
        "print(', '.join(nums))"
      ]
    },
    {
      "cell_type": "markdown",
      "id": "9ecc2913",
      "metadata": {
        "id": "9ecc2913"
      },
      "source": [
        "### Exercise 6 — Word length dictionary\n",
        "Write a function that takes a sentence and returns a dictionary where keys are words and values are their lengths."
      ]
    },
    {
      "cell_type": "code",
      "execution_count": null,
      "id": "7c40a1d2",
      "metadata": {
        "colab": {
          "base_uri": "https://localhost:8080/"
        },
        "id": "7c40a1d2",
        "outputId": "3b80a9ec-32a3-436a-e4d6-df6d2c7ce05a"
      },
      "outputs": [
        {
          "name": "stdout",
          "output_type": "stream",
          "text": [
            "{'I': 1, 'love': 4, 'Python': 6}\n"
          ]
        }
      ],
      "source": [
        "def word_lengths(sentence):\n",
        "    lengths = {}\n",
        "    for word in sentence.split():\n",
        "      lengths[word] = len(word)\n",
        "    return lengths\n",
        "\n",
        "print(word_lengths(\"I love Python\"))  # {'I': 1, 'love': 4, 'Python': 6}"
      ]
    },
    {
      "cell_type": "markdown",
      "id": "fefa5d2f",
      "metadata": {
        "id": "fefa5d2f"
      },
      "source": [
        "### Exercise 7 — Remove vowels\n",
        "Given a string, return the same string but **without vowels** (`a, e, i, o, u`), ignoring case."
      ]
    },
    {
      "cell_type": "code",
      "execution_count": null,
      "id": "44c60900",
      "metadata": {
        "colab": {
          "base_uri": "https://localhost:8080/"
        },
        "id": "44c60900",
        "outputId": "81941f63-e505-4a46-a009-f1afbbed009a"
      },
      "outputs": [
        {
          "name": "stdout",
          "output_type": "stream",
          "text": [
            "Btfl Dy\n"
          ]
        }
      ],
      "source": [
        "def remove_vowels(s):\n",
        "    vowels = 'aeiouAEIOU'\n",
        "    for vowel in vowels:\n",
        "      s = s.replace(vowel, '')\n",
        "    return s\n",
        "\n",
        "print(remove_vowels(\"Beautiful Day\"))  # \"Btfl Dy\""
      ]
    },
    {
      "cell_type": "markdown",
      "id": "b5610180",
      "metadata": {
        "id": "b5610180"
      },
      "source": [
        "### Exercise 8 — Palindrome (ignore spaces & case)\n",
        "Write a function that returns `True` if a string is a palindrome when ignoring spaces and case, else `False`."
      ]
    },
    {
      "cell_type": "code",
      "execution_count": null,
      "id": "48d257e1",
      "metadata": {
        "colab": {
          "base_uri": "https://localhost:8080/"
        },
        "id": "48d257e1",
        "outputId": "536aba09-d96c-4e5c-bfe0-c48b82c8b6c5"
      },
      "outputs": [
        {
          "name": "stdout",
          "output_type": "stream",
          "text": [
            "True\n",
            "False\n"
          ]
        }
      ],
      "source": [
        "def is_palindrome(s):\n",
        "    s = s.replace(\" \", \"\").lower()\n",
        "    if s == s[::-1]:\n",
        "      return True\n",
        "    return False\n",
        "\n",
        "print(is_palindrome(\"Never odd or even\"))  # True\n",
        "print(is_palindrome(\"Hello\"))              # False"
      ]
    },
    {
      "cell_type": "markdown",
      "id": "acbf52be",
      "metadata": {
        "id": "acbf52be"
      },
      "source": [
        "### Exercise 9 — Character frequency counter\n",
        "Write a function that counts the frequency of each character in a string and returns a dictionary. Ignore case, and include spaces in the count."
      ]
    },
    {
      "cell_type": "code",
      "execution_count": null,
      "id": "97c971df",
      "metadata": {
        "colab": {
          "base_uri": "https://localhost:8080/"
        },
        "id": "97c971df",
        "outputId": "12d5e909-0ffb-4a2d-c24f-fbaa74f76cc3"
      },
      "outputs": [
        {
          "name": "stdout",
          "output_type": "stream",
          "text": [
            "{'h': 1, 'e': 1, 'l': 3, 'o': 2, ' ': 1, 'w': 1, 'r': 1, 'd': 1}\n"
          ]
        }
      ],
      "source": [
        "def char_freq(s):\n",
        "    counts = {}\n",
        "    for char in s.lower():\n",
        "      if char in counts:\n",
        "        counts[char] += 1\n",
        "      else:\n",
        "        counts[char] = 1\n",
        "    return counts\n",
        "\n",
        "print(char_freq(\"Hello World\"))"
      ]
    }
  ],
  "metadata": {
    "colab": {
      "provenance": []
    },
    "kernelspec": {
      "display_name": "base",
      "language": "python",
      "name": "python3"
    },
    "language_info": {
      "codemirror_mode": {
        "name": "ipython",
        "version": 3
      },
      "file_extension": ".py",
      "mimetype": "text/x-python",
      "name": "python",
      "nbconvert_exporter": "python",
      "pygments_lexer": "ipython3",
      "version": "3.12.4"
    }
  },
  "nbformat": 4,
  "nbformat_minor": 5
}
