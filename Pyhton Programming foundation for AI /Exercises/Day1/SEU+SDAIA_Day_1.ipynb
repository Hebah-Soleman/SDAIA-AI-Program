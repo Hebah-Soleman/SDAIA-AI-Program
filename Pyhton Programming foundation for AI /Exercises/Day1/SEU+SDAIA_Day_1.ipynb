{
  "nbformat": 4,
  "nbformat_minor": 0,
  "metadata": {
    "colab": {
      "provenance": []
    },
    "kernelspec": {
      "name": "python3",
      "display_name": "Python 3"
    },
    "language_info": {
      "name": "python"
    }
  },
  "cells": [
    {
      "cell_type": "code",
      "execution_count": null,
      "metadata": {
        "id": "zEDuFkVG7woJ"
      },
      "outputs": [],
      "source": [
        "x = 3.5\n",
        "y = 2"
      ]
    },
    {
      "cell_type": "code",
      "source": [
        "print(x + y) # 5.5\n",
        "print(x - y) # 1.5\n",
        "print(x * y) # 7\n",
        "print(x / y) # 1.75\n",
        "print(x // y) #1\n",
        "#print(x ^ y) #exclusive or\n",
        "print(x % 2) # 1.5\n",
        "print(x ** y)"
      ],
      "metadata": {
        "colab": {
          "base_uri": "https://localhost:8080/"
        },
        "id": "2bwjdY298DTM",
        "outputId": "1843b3c3-0ba7-42fa-d3f1-658a242cf076"
      },
      "execution_count": null,
      "outputs": [
        {
          "output_type": "stream",
          "name": "stdout",
          "text": [
            "5.5\n",
            "1.5\n",
            "7.0\n",
            "1.75\n",
            "1.0\n",
            "1.5\n",
            "12.25\n"
          ]
        }
      ]
    },
    {
      "cell_type": "code",
      "source": [
        "s = \"This is a test sentence.\""
      ],
      "metadata": {
        "id": "Q8Z69ey89FRq"
      },
      "execution_count": null,
      "outputs": []
    },
    {
      "cell_type": "code",
      "source": [
        "l = s.split(\" \")"
      ],
      "metadata": {
        "id": "8uaDpW6-9Ifo"
      },
      "execution_count": null,
      "outputs": []
    },
    {
      "cell_type": "code",
      "source": [
        "s2 = \" \".join(l)"
      ],
      "metadata": {
        "id": "Fn4ZlzcB9IdU"
      },
      "execution_count": null,
      "outputs": []
    },
    {
      "cell_type": "code",
      "source": [
        "s2"
      ],
      "metadata": {
        "colab": {
          "base_uri": "https://localhost:8080/",
          "height": 35
        },
        "id": "976Bk73I9Ia1",
        "outputId": "70d0ae81-a1f9-4e15-b07d-0a912b7030ec"
      },
      "execution_count": null,
      "outputs": [
        {
          "output_type": "execute_result",
          "data": {
            "text/plain": [
              "'This is a test sentence.'"
            ],
            "application/vnd.google.colaboratory.intrinsic+json": {
              "type": "string"
            }
          },
          "metadata": {},
          "execution_count": 34
        }
      ]
    },
    {
      "cell_type": "code",
      "source": [
        "len(s)"
      ],
      "metadata": {
        "colab": {
          "base_uri": "https://localhost:8080/"
        },
        "id": "bHeWSzl99IYf",
        "outputId": "97783d3d-9c01-49fd-dc71-c1309e6faf71"
      },
      "execution_count": null,
      "outputs": [
        {
          "output_type": "execute_result",
          "data": {
            "text/plain": [
              "24"
            ]
          },
          "metadata": {},
          "execution_count": 35
        }
      ]
    },
    {
      "cell_type": "code",
      "source": [
        "dir(s)"
      ],
      "metadata": {
        "id": "kQMa910a9IWA"
      },
      "execution_count": null,
      "outputs": []
    },
    {
      "cell_type": "code",
      "source": [
        "s"
      ],
      "metadata": {
        "colab": {
          "base_uri": "https://localhost:8080/",
          "height": 35
        },
        "id": "5xmnMk4M9ITX",
        "outputId": "89627948-e305-48f4-efb0-2eaf656d4ead"
      },
      "execution_count": null,
      "outputs": [
        {
          "output_type": "execute_result",
          "data": {
            "text/plain": [
              "'This is a test sentence.'"
            ],
            "application/vnd.google.colaboratory.intrinsic+json": {
              "type": "string"
            }
          },
          "metadata": {},
          "execution_count": 37
        }
      ]
    },
    {
      "cell_type": "code",
      "source": [
        "s.lower()"
      ],
      "metadata": {
        "colab": {
          "base_uri": "https://localhost:8080/",
          "height": 35
        },
        "id": "BGRZJgqd_mB7",
        "outputId": "7277288e-62f5-4a9e-b890-5841b99b4693"
      },
      "execution_count": null,
      "outputs": [
        {
          "output_type": "execute_result",
          "data": {
            "text/plain": [
              "'this is a test sentence.'"
            ],
            "application/vnd.google.colaboratory.intrinsic+json": {
              "type": "string"
            }
          },
          "metadata": {},
          "execution_count": 40
        }
      ]
    },
    {
      "cell_type": "code",
      "source": [
        "# enc: test ---> tfefsft\n",
        "# dec: tfefsft ---> test"
      ],
      "metadata": {
        "id": "6xlo0W92_wXF"
      },
      "execution_count": null,
      "outputs": []
    },
    {
      "cell_type": "code",
      "source": [
        "# encryption\n",
        "\n",
        "s = \"test\"\n",
        "e = \"f\".join(s)\n",
        "print(e)\n",
        "\n",
        "\n",
        "# e = \"\"\n",
        "# for c in s:\n",
        "#   e = e+c+\"f\"\n",
        "# e = e[:-1]\n",
        "\n",
        "# print(e)"
      ],
      "metadata": {
        "colab": {
          "base_uri": "https://localhost:8080/"
        },
        "id": "_atUS3kyAl4N",
        "outputId": "d2f6aa4a-c841-46f1-dec0-7cbfe90631a6"
      },
      "execution_count": null,
      "outputs": [
        {
          "output_type": "stream",
          "name": "stdout",
          "text": [
            "tfefsft\n"
          ]
        }
      ]
    },
    {
      "cell_type": "code",
      "source": [
        "#decryption\n",
        "d = e[::2]\n",
        "print(d)"
      ],
      "metadata": {
        "colab": {
          "base_uri": "https://localhost:8080/"
        },
        "id": "DEyYF3FTBfBO",
        "outputId": "8e7ce406-d6c6-4a83-9567-45b253c24b39"
      },
      "execution_count": null,
      "outputs": [
        {
          "output_type": "stream",
          "name": "stdout",
          "text": [
            "test\n"
          ]
        }
      ]
    },
    {
      "cell_type": "code",
      "source": [
        "x = [1, 2, 3 , 'test', 4.0, [1,2,3], 5]"
      ],
      "metadata": {
        "id": "SkkR-pDSBe-m"
      },
      "execution_count": null,
      "outputs": []
    },
    {
      "cell_type": "code",
      "source": [
        "x[5][1]"
      ],
      "metadata": {
        "colab": {
          "base_uri": "https://localhost:8080/"
        },
        "id": "rq0kuY6hAly_",
        "outputId": "81d52a58-4116-400b-b2a8-c9e349d2f0c1"
      },
      "execution_count": null,
      "outputs": [
        {
          "output_type": "execute_result",
          "data": {
            "text/plain": [
              "2"
            ]
          },
          "metadata": {},
          "execution_count": 55
        }
      ]
    },
    {
      "cell_type": "code",
      "source": [
        "s1 = [\"Naeem\", \"Khan\", 12345, \"Graduate\", 000]\n",
        "d1 = {\"fname\": \"Naeem\", \"lname\":\"Khan\", \"ID\": 12345, \"grade\": \"Graduate\", \"Age\": 000}"
      ],
      "metadata": {
        "id": "5eLH7BSK_wNf"
      },
      "execution_count": null,
      "outputs": []
    },
    {
      "cell_type": "code",
      "source": [
        "d1[\"lname\"]"
      ],
      "metadata": {
        "colab": {
          "base_uri": "https://localhost:8080/",
          "height": 35
        },
        "id": "UYCEEVbD_wK9",
        "outputId": "2bee0d13-242c-4a4e-c4c3-7018f7ba1850"
      },
      "execution_count": null,
      "outputs": [
        {
          "output_type": "execute_result",
          "data": {
            "text/plain": [
              "'Khan'"
            ],
            "application/vnd.google.colaboratory.intrinsic+json": {
              "type": "string"
            }
          },
          "metadata": {},
          "execution_count": 59
        }
      ]
    },
    {
      "cell_type": "code",
      "source": [
        "print(d1[\"fname\"] + \" \" + d1[\"lname\"])"
      ],
      "metadata": {
        "colab": {
          "base_uri": "https://localhost:8080/"
        },
        "id": "uR7VHXzT_wGj",
        "outputId": "77389e2d-df58-4d72-e9e3-3ceea58bd417"
      },
      "execution_count": null,
      "outputs": [
        {
          "output_type": "stream",
          "name": "stdout",
          "text": [
            "Naeem Khan\n"
          ]
        }
      ]
    },
    {
      "cell_type": "code",
      "source": [
        "# for(int i = 0; i<10; i++) {}\n",
        "l1 = [1,2 ,3, 4, 5]\n",
        "\n",
        "for element in l1:\n",
        "  print(element)\n",
        "  print(\"Hello\")\n"
      ],
      "metadata": {
        "colab": {
          "base_uri": "https://localhost:8080/"
        },
        "id": "31vOD_rTDnlI",
        "outputId": "7d0364e7-fc86-492c-c8a5-40aab0d353f3"
      },
      "execution_count": null,
      "outputs": [
        {
          "output_type": "stream",
          "name": "stdout",
          "text": [
            "1\n",
            "2\n",
            "3\n",
            "4\n",
            "5\n",
            "Hello\n"
          ]
        }
      ]
    },
    {
      "cell_type": "code",
      "source": [
        "s = \"This is a test\"\n",
        "for c in s:\n",
        "  print(c)"
      ],
      "metadata": {
        "colab": {
          "base_uri": "https://localhost:8080/"
        },
        "id": "eXX4KJWKDnha",
        "outputId": "26c82d1e-1038-4789-e6b9-41f25a6a13fb"
      },
      "execution_count": null,
      "outputs": [
        {
          "output_type": "stream",
          "name": "stdout",
          "text": [
            "T\n",
            "h\n",
            "i\n",
            "s\n",
            " \n",
            "i\n",
            "s\n",
            " \n",
            "a\n",
            " \n",
            "t\n",
            "e\n",
            "s\n",
            "t\n"
          ]
        }
      ]
    },
    {
      "cell_type": "code",
      "source": [
        "#for (int i = 0 ; i<10; i++){print(\"Hello\")}\n",
        "\n",
        "for i in range(10):\n",
        "  print(\"Hello\")"
      ],
      "metadata": {
        "colab": {
          "base_uri": "https://localhost:8080/"
        },
        "id": "ksCfIS_NDneL",
        "outputId": "c589e665-7de1-49bb-ba71-5005f6bff5da"
      },
      "execution_count": null,
      "outputs": [
        {
          "output_type": "stream",
          "name": "stdout",
          "text": [
            "Hello\n",
            "Hello\n",
            "Hello\n",
            "Hello\n",
            "Hello\n",
            "Hello\n",
            "Hello\n",
            "Hello\n",
            "Hello\n",
            "Hello\n"
          ]
        }
      ]
    },
    {
      "cell_type": "code",
      "source": [
        "if True:\n",
        "  print(\"Hello\")\n",
        "\n",
        "if False:\n",
        "  print(\"Not Welcome\")"
      ],
      "metadata": {
        "colab": {
          "base_uri": "https://localhost:8080/"
        },
        "id": "4oK_290nDnbt",
        "outputId": "b5e89967-7484-437f-9a80-78c8b4011479"
      },
      "execution_count": null,
      "outputs": [
        {
          "output_type": "stream",
          "name": "stdout",
          "text": [
            "Hello\n"
          ]
        }
      ]
    },
    {
      "cell_type": "code",
      "source": [
        "x = [1, 2, 3, 4, 100, 6, 8]\n",
        "\n",
        "for e in x:\n",
        "  if e%2 ==0:\n",
        "    print(e)"
      ],
      "metadata": {
        "colab": {
          "base_uri": "https://localhost:8080/"
        },
        "id": "vboUvDuGDnZO",
        "outputId": "462053c0-ae4e-4f99-d135-f7d05f6472bd"
      },
      "execution_count": null,
      "outputs": [
        {
          "output_type": "stream",
          "name": "stdout",
          "text": [
            "2\n",
            "4\n",
            "100\n",
            "6\n",
            "8\n"
          ]
        }
      ]
    },
    {
      "cell_type": "code",
      "source": [],
      "metadata": {
        "id": "HE-ippBrDnW4"
      },
      "execution_count": null,
      "outputs": []
    },
    {
      "cell_type": "code",
      "source": [],
      "metadata": {
        "id": "0yuZSp95DnUb"
      },
      "execution_count": null,
      "outputs": []
    },
    {
      "cell_type": "code",
      "source": [],
      "metadata": {
        "id": "rCx85c47DnR-"
      },
      "execution_count": null,
      "outputs": []
    },
    {
      "cell_type": "markdown",
      "source": [
        "This is for me to keep track of my work\n"
      ],
      "metadata": {
        "id": "WlGxifiE75oh"
      }
    }
  ]
}