{
  "cells": [
    {
      "cell_type": "markdown",
      "metadata": {
        "id": "430cEIv0aDLu"
      },
      "source": [
        "![image.png](https://i.imgur.com/a3uAqnb.png)"
      ]
    },
    {
      "cell_type": "markdown",
      "metadata": {
        "id": "PC-a46V3eTUZ"
      },
      "source": [
        "# Machine Learning with Scikit-Learn - Lab Exercise\n",
        "\n",
        "In this lab, you'll work with a real dataset to practice the machine learning concepts we covered in class. We'll be predicting house prices using various features.\n",
        "\n",
        "## Dataset Overview\n",
        "We're using a simplified version of the California housing dataset. Each row represents a house with features like:\n",
        "- Average income in the area\n",
        "- House age\n",
        "- Average rooms per house\n",
        "- Population density\n",
        "- And more...\n",
        "\n",
        "Your goal: build a model that can predict house prices accurately."
      ]
    },
    {
      "cell_type": "markdown",
      "metadata": {
        "id": "RaWrpWSFeTUd"
      },
      "source": [
        "## Step 1: Import Libraries\n",
        "\n",
        "Fill in the missing imports. You'll need:\n",
        "- pandas for data manipulation\n",
        "- numpy for numerical operations  \n",
        "- matplotlib and seaborn for visualization\n",
        "- sklearn modules for machine learning"
      ]
    },
    {
      "cell_type": "code",
      "execution_count": null,
      "metadata": {
        "id": "1TOHsShBeTUe"
      },
      "outputs": [],
      "source": [
        "import pandas as pd\n",
        "import numpy as np\n",
        "import matplotlib.pyplot as plt\n",
        "import seaborn as sns\n",
        "\n",
        "# TODO: Import train_test_split from sklearn\n",
        "# TODO: Import LinearRegression from sklearn\n",
        "# TODO: Import RandomForestRegressor from sklearn\n",
        "# TODO: Import mean_squared_error and r2_score from sklearn.metrics\n",
        "\n",
        "# Set random seed for reproducibility\n",
        "np.random.seed(42)"
      ]
    },
    {
      "cell_type": "markdown",
      "metadata": {
        "id": "CSy19Z1AeTUf"
      },
      "source": [
        "## Step 2: Load and Explore the Data"
      ]
    },
    {
      "cell_type": "code",
      "execution_count": null,
      "metadata": {
        "id": "ur5mvbd6eTUf"
      },
      "outputs": [],
      "source": [
        "# Load the California housing dataset\n",
        "from sklearn.datasets import fetch_california_housing\n",
        "\n",
        "# TODO: Use fetch_california_housing() to load the data\n",
        "housing =\n",
        "\n",
        "# TODO: Create a DataFrame with the features\n",
        "# Hint: use housing.data for features and housing.feature_names for column names\n",
        "df =\n",
        "\n",
        "# TODO: Add the target variable (house prices) as a new column called 'price'\n",
        "df['price'] =\n",
        "\n",
        "print(f\"Dataset shape: {df.shape}\")\n",
        "print(f\"\\nFirst few rows:\")\n",
        "df.head()"
      ]
    },
    {
      "cell_type": "markdown",
      "metadata": {
        "id": "rmt5YGwAeTUf"
      },
      "source": [
        "## Step 3: Basic Data Analysis\n",
        "\n",
        "Let's understand our data better before building models."
      ]
    },
    {
      "cell_type": "code",
      "execution_count": null,
      "metadata": {
        "id": "Xev1FM3CeTUf"
      },
      "outputs": [],
      "source": [
        "# TODO: Display basic statistics about the dataset\n",
        "# Hint: use the describe() method\n"
      ]
    },
    {
      "cell_type": "code",
      "execution_count": null,
      "metadata": {
        "id": "IVFU0C1SeTUg"
      },
      "outputs": [],
      "source": [
        "# TODO: Check for missing values\n",
        "# Hint: use isnull().sum()\n"
      ]
    },
    {
      "cell_type": "code",
      "execution_count": null,
      "metadata": {
        "id": "F2QecNqFeTUg"
      },
      "outputs": [],
      "source": [
        "# TODO: Create a histogram of house prices\n",
        "plt.figure(figsize=(10, 6))\n",
        "# Your code here\n",
        "\n",
        "plt.title('Distribution of House Prices')\n",
        "plt.xlabel('Price')\n",
        "plt.ylabel('Frequency')\n",
        "plt.show()"
      ]
    },
    {
      "cell_type": "markdown",
      "metadata": {
        "id": "1U6fu3MMeTUg"
      },
      "source": [
        "## Step 4: Feature Analysis\n",
        "\n",
        "Let's see which features are most correlated with house prices."
      ]
    },
    {
      "cell_type": "code",
      "execution_count": null,
      "metadata": {
        "id": "JMAdJNXmeTUh"
      },
      "outputs": [],
      "source": [
        "# TODO: Create a correlation matrix and visualize it\n",
        "plt.figure(figsize=(12, 10))\n",
        "\n",
        "# Calculate correlation matrix\n",
        "corr_matrix =\n",
        "\n",
        "# Create heatmap\n",
        "# Hint: use sns.heatmap() with annot=True to show correlation values\n",
        "\n",
        "plt.title('Feature Correlation Matrix')\n",
        "plt.show()"
      ]
    },
    {
      "cell_type": "code",
      "execution_count": null,
      "metadata": {
        "id": "muPhMPSieTUh"
      },
      "outputs": [],
      "source": [
        "# TODO: Show correlations with the target variable (price) in descending order\n",
        "# Hint: Get correlations with 'price' column and sort them\n"
      ]
    },
    {
      "cell_type": "markdown",
      "metadata": {
        "id": "Zpnq7UKMeTUh"
      },
      "source": [
        "## Step 5: Prepare Data for Machine Learning\n",
        "\n",
        "Split the data into features (X) and target (y), then create training and testing sets."
      ]
    },
    {
      "cell_type": "code",
      "execution_count": null,
      "metadata": {
        "id": "b_jjiNNAeTUh"
      },
      "outputs": [],
      "source": [
        "# TODO: Separate features and target\n",
        "# X should contain all columns except 'price'\n",
        "# y should contain only the 'price' column\n",
        "X =\n",
        "y =\n",
        "\n",
        "print(f\"Features shape: {X.shape}\")\n",
        "print(f\"Target shape: {y.shape}\")"
      ]
    },
    {
      "cell_type": "code",
      "execution_count": null,
      "metadata": {
        "id": "DeYSaNkoeTUh"
      },
      "outputs": [],
      "source": [
        "# TODO: Split the data into training and testing sets\n",
        "# Use 80% for training, 20% for testing\n",
        "# Set random_state=42 for reproducibility\n",
        "X_train, X_test, y_train, y_test =\n",
        "\n",
        "print(f\"Training set size: {X_train.shape[0]}\")\n",
        "print(f\"Testing set size: {X_test.shape[0]}\")"
      ]
    },
    {
      "cell_type": "markdown",
      "metadata": {
        "id": "Kz0femmpeTUi"
      },
      "source": [
        "## Step 6: Build and Train Models\n",
        "\n",
        "We'll compare two different algorithms: Linear Regression and Random Forest."
      ]
    },
    {
      "cell_type": "markdown",
      "metadata": {
        "id": "FafEHlqDeTUi"
      },
      "source": [
        "### Linear Regression Model"
      ]
    },
    {
      "cell_type": "code",
      "execution_count": null,
      "metadata": {
        "id": "-uobj718eTUi"
      },
      "outputs": [],
      "source": [
        "# TODO: Create and train a Linear Regression model\n",
        "lr_model =\n",
        "\n",
        "# Train the model\n",
        "\n",
        "print(\"Linear Regression model trained!\")"
      ]
    },
    {
      "cell_type": "markdown",
      "metadata": {
        "id": "92F2xpx0eTUi"
      },
      "source": [
        "### Random Forest Model"
      ]
    },
    {
      "cell_type": "code",
      "execution_count": null,
      "metadata": {
        "id": "rTnU4Qr_eTUi"
      },
      "outputs": [],
      "source": [
        "# TODO: Create and train a Random Forest model\n",
        "# Use 100 trees (n_estimators=100) and random_state=42\n",
        "rf_model =\n",
        "\n",
        "# Train the model\n",
        "\n",
        "print(\"Random Forest model trained!\")"
      ]
    },
    {
      "cell_type": "markdown",
      "metadata": {
        "id": "x4XTIHdMeTUi"
      },
      "source": [
        "## Step 7: Make Predictions and Evaluate Models\n",
        "\n",
        "Let's see how well our models perform on the test data."
      ]
    },
    {
      "cell_type": "code",
      "execution_count": null,
      "metadata": {
        "id": "HicbRYVHeTUi"
      },
      "outputs": [],
      "source": [
        "# TODO: Make predictions with both models\n",
        "lr_predictions =\n",
        "rf_predictions ="
      ]
    },
    {
      "cell_type": "code",
      "execution_count": null,
      "metadata": {
        "id": "zEyCE8UweTUi"
      },
      "outputs": [],
      "source": [
        "# TODO: Calculate evaluation metrics for both models\n",
        "# Calculate Mean Squared Error and R² score\n",
        "\n",
        "# Linear Regression metrics\n",
        "lr_mse =\n",
        "lr_r2 =\n",
        "\n",
        "# Random Forest metrics\n",
        "rf_mse =\n",
        "rf_r2 =\n",
        "\n",
        "print(\"Model Performance Comparison:\")\n",
        "print(f\"\\nLinear Regression:\")\n",
        "print(f\"  Mean Squared Error: {lr_mse:.4f}\")\n",
        "print(f\"  R² Score: {lr_r2:.4f}\")\n",
        "\n",
        "print(f\"\\nRandom Forest:\")\n",
        "print(f\"  Mean Squared Error: {rf_mse:.4f}\")\n",
        "print(f\"  R² Score: {rf_r2:.4f}\")"
      ]
    },
    {
      "cell_type": "markdown",
      "metadata": {
        "id": "pEIWCX7ReTUi"
      },
      "source": [
        "## Step 8: Visualize Results\n",
        "\n",
        "Create scatter plots to see how well our predictions match the actual prices."
      ]
    },
    {
      "cell_type": "code",
      "execution_count": null,
      "metadata": {
        "id": "MucHxDaKeTUi"
      },
      "outputs": [],
      "source": [
        "# TODO: Create scatter plots comparing predictions vs actual values\n",
        "fig, (ax1, ax2) = plt.subplots(1, 2, figsize=(15, 6))\n",
        "\n",
        "# Linear Regression plot\n",
        "# Hint: use scatter plot with y_test vs lr_predictions\n",
        "ax1.scatter(y_test, lr_predictions, alpha=0.5)\n",
        "ax1.plot([y_test.min(), y_test.max()], [y_test.min(), y_test.max()], 'r--', lw=2)\n",
        "ax1.set_xlabel('Actual Prices')\n",
        "ax1.set_ylabel('Predicted Prices')\n",
        "ax1.set_title(f'Linear Regression (R² = {lr_r2:.3f})')\n",
        "\n",
        "# Random Forest plot\n",
        "# TODO: Create similar scatter plot for Random Forest\n",
        "ax2.scatter(y_test, rf_predictions, alpha=0.5)\n",
        "ax2.plot([y_test.min(), y_test.max()], [y_test.min(), y_test.max()], 'r--', lw=2)\n",
        "ax2.set_xlabel('Actual Prices')\n",
        "ax2.set_ylabel('Predicted Prices')\n",
        "ax2.set_title(f'Random Forest (R² = {rf_r2:.3f})')\n",
        "\n",
        "plt.tight_layout()\n",
        "plt.show()"
      ]
    },
    {
      "cell_type": "markdown",
      "metadata": {
        "id": "SmQqyhI5eTUj"
      },
      "source": [
        "## Step 9: Feature Importance (Bonus)\n",
        "\n",
        "Random Forest can tell us which features are most important for predictions."
      ]
    },
    {
      "cell_type": "code",
      "execution_count": null,
      "metadata": {
        "id": "O8e4SaGfeTUj"
      },
      "outputs": [],
      "source": [
        "# TODO: Get feature importance from the Random Forest model\n",
        "# Create a DataFrame with feature names and their importance scores\n",
        "feature_importance = pd.DataFrame({\n",
        "    'feature': X.columns,\n",
        "    'importance': # TODO: Get feature_importances_ from rf_model\n",
        "})\n",
        "\n",
        "# TODO: Sort by importance in descending order\n",
        "feature_importance =\n",
        "\n",
        "print(\"Feature Importance (Random Forest):\")\n",
        "print(feature_importance)"
      ]
    },
    {
      "cell_type": "code",
      "execution_count": null,
      "metadata": {
        "id": "ppd2RzjveTUj"
      },
      "outputs": [],
      "source": [
        "# TODO: Create a bar plot of feature importance\n",
        "plt.figure(figsize=(10, 6))\n",
        "# Hint: use plt.barh() for horizontal bar plot\n",
        "\n",
        "plt.title('Feature Importance (Random Forest)')\n",
        "plt.xlabel('Importance')\n",
        "plt.show()"
      ]
    }
  ],
  "metadata": {
    "kernelspec": {
      "display_name": "Python 3",
      "language": "python",
      "name": "python3"
    },
    "language_info": {
      "codemirror_mode": {
        "name": "ipython",
        "version": 3
      },
      "file_extension": ".py",
      "mimetype": "text/x-python",
      "name": "python",
      "nbconvert_exporter": "python",
      "pygments_lexer": "ipython3",
      "version": "3.8.0"
    },
    "colab": {
      "provenance": []
    }
  },
  "nbformat": 4,
  "nbformat_minor": 0
}