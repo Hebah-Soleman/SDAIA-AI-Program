{
  "nbformat": 4,
  "nbformat_minor": 0,
  "metadata": {
    "colab": {
      "provenance": []
    },
    "kernelspec": {
      "name": "python3",
      "display_name": "Python 3"
    },
    "language_info": {
      "name": "python"
    }
  },
  "cells": [
    {
      "cell_type": "markdown",
      "metadata": {
        "id": "430cEIv0aDLu"
      },
      "source": [
        "![image.png](https://i.imgur.com/a3uAqnb.png)"
      ]
    },
    {
      "cell_type": "markdown",
      "source": [
        "### Exercise 1\n",
        "Write a program (without using OOP) which takes in (x, y) ∈ +2 a tuple of\n",
        "positive number representing the size of rectangular grid. It then takes an arbitrary number\n",
        "of parameters (x, y), r, where the (x, y) represents the center of a circle and r represents\n",
        "the radius. For each entry the program returns a \"True\" if the circle can be placed on the\n",
        "grid without it intersecting with any other circles and then places the circle on the grid. Else\n",
        "\"False\" if the circle can not be placed on the grid because it intersects with other previously\n",
        "placed circle."
      ],
      "metadata": {
        "id": "C2KF5McrmE96"
      }
    },
    {
      "cell_type": "code",
      "source": [
        "def can_place_circle(grid_size, circles, new_circle):\n",
        "    x, y, r = new_circle\n",
        "    width, height = grid_size\n",
        "\n",
        "    # Check if circle fits inside the grid\n",
        "    if not (r <= x <= width - r and r <= y <= height - r):\n",
        "        return False\n",
        "\n",
        "    # Check for intersection with existing circles\n",
        "    for cx, cy, cr in circles:\n",
        "        distance_sq = (x - cx) ** 2 + (y - cy) ** 2\n",
        "        if distance_sq < (r + cr) ** 2:\n",
        "            return False\n",
        "\n",
        "    # Place circle\n",
        "    circles.append(new_circle)\n",
        "    return True"
      ],
      "metadata": {
        "id": "TQjW6kn9mO2D"
      },
      "execution_count": 17,
      "outputs": []
    },
    {
      "cell_type": "code",
      "source": [
        "grid_size = (10, 10)\n",
        "circles = []\n",
        "print(can_place_circle(grid_size, circles, (2, 2, 1)))  # True\n",
        "print(can_place_circle(grid_size, circles, (3, 2, 2)))  # False (intersects)\n",
        "print(can_place_circle(grid_size, circles, (7, 7, 2)))  # True"
      ],
      "metadata": {
        "id": "5zbDlwS1mPMQ",
        "colab": {
          "base_uri": "https://localhost:8080/"
        },
        "outputId": "29577fa5-03e7-45e3-eb79-8c310afa1182"
      },
      "execution_count": 18,
      "outputs": [
        {
          "output_type": "stream",
          "name": "stdout",
          "text": [
            "True\n",
            "False\n",
            "True\n"
          ]
        }
      ]
    },
    {
      "cell_type": "markdown",
      "source": [
        "### Exercise 2\n",
        "\n",
        "Re-implement the above with OOP."
      ],
      "metadata": {
        "id": "VJPRHKFLmPeN"
      }
    },
    {
      "cell_type": "code",
      "source": [
        "class CircleGrid:\n",
        "    def __init__(self, width, height):\n",
        "        self.width = width\n",
        "        self.height = height\n",
        "        self.circles = []\n",
        "\n",
        "    def can_place(self, x, y, r):\n",
        "        if not (r <= x <= self.width - r and r <= y <= self.height - r):\n",
        "            return False\n",
        "        for cx, cy, cr in self.circles:\n",
        "            if (x - cx) ** 2 + (y - cy) ** 2 < (r + cr) ** 2:\n",
        "                return False\n",
        "        self.circles.append((x, y, r))\n",
        "        return True"
      ],
      "metadata": {
        "id": "t2p1WWQimRgp"
      },
      "execution_count": 19,
      "outputs": []
    },
    {
      "cell_type": "code",
      "source": [
        "grid = CircleGrid(10, 10)\n",
        "print(grid.can_place(2, 2, 1))  # True\n",
        "print(grid.can_place(3, 2, 2))  # False\n",
        "print(grid.can_place(7, 7, 2))  # True"
      ],
      "metadata": {
        "id": "EOP4jk0UmRdh",
        "colab": {
          "base_uri": "https://localhost:8080/"
        },
        "outputId": "a7ce51c8-3b58-4148-c271-624e519228a4"
      },
      "execution_count": 20,
      "outputs": [
        {
          "output_type": "stream",
          "name": "stdout",
          "text": [
            "True\n",
            "False\n",
            "True\n"
          ]
        }
      ]
    },
    {
      "cell_type": "markdown",
      "source": [
        "### Exercise 3\n",
        "\n",
        "Re-implement the above in \"3\" dimensional space. where \"3\" is the input of\n",
        "the class constructor."
      ],
      "metadata": {
        "id": "LamINZMgmR9b"
      }
    },
    {
      "cell_type": "code",
      "source": [
        "import math\n",
        "\n",
        "class NDGrid:\n",
        "    def __init__(self, dimensions):\n",
        "        self.dimensions = dimensions  # tuple/list e.g. (10,10,10)\n",
        "        self.spheres = []\n",
        "\n",
        "    def can_place(self, center, radius):\n",
        "        # Check if sphere fits in the grid\n",
        "        for c, limit in zip(center, self.dimensions):\n",
        "            if not (radius <= c <= limit - radius):\n",
        "                return False\n",
        "\n",
        "        # Check intersection with existing spheres\n",
        "        for other_center, other_radius in self.spheres:\n",
        "            dist_sq = sum((a - b) ** 2 for a, b in zip(center, other_center))\n",
        "            if dist_sq < (radius + other_radius) ** 2:\n",
        "                return False\n",
        "\n",
        "        self.spheres.append((center, radius))\n",
        "        return True\n",
        "\n"
      ],
      "metadata": {
        "id": "UdJlIAvdmjAV"
      },
      "execution_count": 21,
      "outputs": []
    },
    {
      "cell_type": "code",
      "source": [
        "# Example usage in 3D\n",
        "grid3d = NDGrid((10, 10, 10))\n",
        "print(grid3d.can_place((2, 2, 2), 1))  # True\n",
        "print(grid3d.can_place((2, 2, 3), 2))  # False (intersects)"
      ],
      "metadata": {
        "id": "bCY7mXQ_mjae",
        "colab": {
          "base_uri": "https://localhost:8080/"
        },
        "outputId": "f8ca554f-1b8b-42c2-9be5-7fe44ebb2d4c"
      },
      "execution_count": 22,
      "outputs": [
        {
          "output_type": "stream",
          "name": "stdout",
          "text": [
            "True\n",
            "False\n"
          ]
        }
      ]
    },
    {
      "cell_type": "markdown",
      "source": [
        "### Exercise 4\n",
        "Re-implement the above in 2 dimensional where we can now draw, circle,\n",
        "squares, triangles, and rectangles. The format for the shapes is:\n",
        "circle: x, y, r where x, y is center of circle and r is it’s radius\n",
        "square: x, y, d where x, y is center of square and d is it’s side length\n",
        "square: x, y, l, w where x, y is center of square and l, w are it’s length and width\n",
        "triangle: x1, y1, x2, y2, x3, y3 where xi, yi represents the ith corner of the triangle\n"
      ],
      "metadata": {
        "id": "_1Go2jDvmjyf"
      }
    },
    {
      "cell_type": "code",
      "source": [
        "import math\n",
        "\n",
        "class ShapeGrid2D:\n",
        "    def __init__(self, width, height):\n",
        "        self.width = width\n",
        "        self.height = height\n",
        "        self.shapes = []\n",
        "\n",
        "    def _distance(self, p1, p2):\n",
        "        return math.sqrt((p1[0]-p2[0])**2 + (p1[1]-p2[1])**2)\n",
        "\n",
        "    def can_place_circle(self, x, y, r):\n",
        "        if not (r <= x <= self.width-r and r <= y <= self.height-r):\n",
        "            return False\n",
        "        for shape in self.shapes:\n",
        "            if shape['type'] == 'circle':\n",
        "                if self._distance((x,y), shape['center']) < r + shape['radius']:\n",
        "                    return False\n",
        "        self.shapes.append({'type':'circle', 'center':(x,y), 'radius':r})\n",
        "        return True\n",
        "\n",
        "    def can_place_square(self, x, y, d):\n",
        "        half = d/2\n",
        "        if not (half <= x <= self.width-half and half <= y <= self.height-half):\n",
        "            return False\n",
        "        self.shapes.append({'type':'square', 'center':(x,y), 'd':d})\n",
        "        return True\n",
        "\n",
        "    def can_place_rectangle(self, x, y, l, w):\n",
        "        half_l, half_w = l/2, w/2\n",
        "        if not (half_l <= x <= self.width-half_l and half_w <= y <= self.height-half_w):\n",
        "            return False\n",
        "        self.shapes.append({'type':'rectangle', 'center':(x,y), 'l':l, 'w':w})\n",
        "        return True\n",
        "\n",
        "    def can_place_triangle(self, points):\n",
        "        # points = [(x1,y1),(x2,y2),(x3,y3)]\n",
        "        if any(not (0 <= x <= self.width and 0 <= y <= self.height) for x,y in points):\n",
        "            return False\n",
        "        self.shapes.append({'type':'triangle', 'points':points})\n",
        "        return True\n",
        "\n"
      ],
      "metadata": {
        "id": "RxAQLyRxmouz"
      },
      "execution_count": 23,
      "outputs": []
    },
    {
      "cell_type": "code",
      "source": [
        "grid2d = ShapeGrid2D(10, 10)\n",
        "\n",
        "# These work\n",
        "print(grid2d.can_place_circle(2, 2, 1))                 # True\n",
        "print(grid2d.can_place_square(5, 5, 2))                 # True\n",
        "print(grid2d.can_place_rectangle(8, 8, 3, 2))           # True\n",
        "print(grid2d.can_place_triangle([(1,1),(2,1),(1,2)]))   # True\n",
        "\n",
        "# These fail (go outside grid boundaries)\n",
        "print(grid2d.can_place_circle(0, 0, 3))                 # False (circle goes outside grid)\n",
        "print(grid2d.can_place_square(9, 9, 4))                 # False (square extends beyond grid)\n",
        "print(grid2d.can_place_rectangle(9, 9, 4, 3))           # False (rectangle extends beyond grid)\n",
        "print(grid2d.can_place_triangle([(0,0), (11,0), (5,5)]))# False (triangle corner outside grid)"
      ],
      "metadata": {
        "id": "bw43J5X-mosq",
        "colab": {
          "base_uri": "https://localhost:8080/"
        },
        "outputId": "61bf92ef-b315-40de-9313-8a0e0b14b38f"
      },
      "execution_count": 24,
      "outputs": [
        {
          "output_type": "stream",
          "name": "stdout",
          "text": [
            "True\n",
            "True\n",
            "True\n",
            "True\n",
            "False\n",
            "False\n",
            "False\n",
            "False\n"
          ]
        }
      ]
    },
    {
      "cell_type": "markdown",
      "source": [
        "### Extra\n",
        "**Multiple Inheritance and Attribute Lookup:**\n",
        "\n",
        "In Python, when an attribute (or method) is accessed through an object, the interpreter follows a well-defined order of lookup known as the Method Resolution Order (MRO). The lookup process follows these rules:\n",
        "\n",
        "\n",
        "\t1.\tThe attribute is first looked for in the class of the object itself.\n",
        "\t2.\tIf not found, it is then searched in the parent classes, from left to right as specified in the class definition.\n",
        "\t3.\tIf a parent itself has parents, the lookup continues recursively up the inheritance chain following the MRO.\n",
        "\t4.\tIf still not found, the lookup moves to the next parent class in order, and so on.\n",
        "\t5.\tIf no match is found anywhere in the hierarchy, Python raises an AttributeError.\n",
        "\n",
        "Python provides useful built-in functions to work with classes and inheritance:\n",
        "\n",
        "\t•\tisinstance(obj, Class) → checks whether an object is an instance of a given class (or its subclasses).\n",
        "\t•\tissubclass(Class1, Class2) → checks whether Class1 is a subclass of Class2."
      ],
      "metadata": {
        "id": "0BJQ0gqtl6WF"
      }
    },
    {
      "cell_type": "code",
      "source": [
        "class ParentA:\n",
        "    def __init__(self):\n",
        "        self.attr_a = \"Mother\"\n",
        "\n",
        "    def method_a(self):\n",
        "        return \"Message from the Mother\"\n",
        "\n",
        "\n",
        "class ParentB:\n",
        "    def __init__(self):\n",
        "        self.attr_b = \"Father\"\n",
        "\n",
        "    def method_b(self):\n",
        "        return \"Message from the Father\""
      ],
      "metadata": {
        "id": "oH79wOgksnNh"
      },
      "execution_count": 25,
      "outputs": []
    },
    {
      "cell_type": "code",
      "source": [
        "class Child(ParentA, ParentB):\n",
        "    def __init__(self):\n",
        "        super().__init__()         # Calls ParentA.__init__ because of MRO\n",
        "        ParentB.__init__(self)     # Explicitly initialize ParentB\n",
        "        self.attr_child = \"Child\"\n",
        "\n",
        "    def method_child(self):\n",
        "        return \"Message from the Child\""
      ],
      "metadata": {
        "id": "dJanj-JxsnK8"
      },
      "execution_count": 26,
      "outputs": []
    },
    {
      "cell_type": "code",
      "source": [
        "c = Child()\n",
        "\n",
        "# Access attributes from child and parents\n",
        "print(c.attr_child)   # From Child\n",
        "print(c.attr_a)       # From ParentA\n",
        "print(c.attr_b)       # From ParentB\n",
        "\n",
        "# Access methods\n",
        "print(c.method_child())  # From Child\n",
        "print(c.method_a())      # From ParentA\n",
        "print(c.method_b())      # From ParentB"
      ],
      "metadata": {
        "colab": {
          "base_uri": "https://localhost:8080/"
        },
        "id": "MlaIVBHzsnIV",
        "outputId": "6f51b494-d3a0-422e-da75-8a1623d4f9de"
      },
      "execution_count": 27,
      "outputs": [
        {
          "output_type": "stream",
          "name": "stdout",
          "text": [
            "Child\n",
            "Mother\n",
            "Father\n",
            "Message from the Child\n",
            "Message from the Mother\n",
            "Message from the Father\n"
          ]
        }
      ]
    },
    {
      "cell_type": "code",
      "source": [
        "# Show Method Resolution Order\n",
        "print(Child.__mro__)"
      ],
      "metadata": {
        "colab": {
          "base_uri": "https://localhost:8080/"
        },
        "collapsed": true,
        "id": "RR4yy7TwsnF9",
        "outputId": "79cda700-8b8b-4c97-beee-f30829f97c23"
      },
      "execution_count": 28,
      "outputs": [
        {
          "output_type": "stream",
          "name": "stdout",
          "text": [
            "(<class '__main__.Child'>, <class '__main__.ParentA'>, <class '__main__.ParentB'>, <class 'object'>)\n"
          ]
        }
      ]
    },
    {
      "cell_type": "code",
      "source": [
        "# isinstance checks\n",
        "print(isinstance(c, Child))     # True\n",
        "print(isinstance(c, ParentA))   # True\n",
        "print(isinstance(c, ParentB))   # True\n",
        "print(isinstance(c, object))    # True\n",
        "\n",
        "# issubclass checks\n",
        "print(issubclass(Child, ParentA))   # True\n",
        "print(issubclass(Child, ParentB))   # True\n",
        "print(issubclass(Child, object))    # True\n",
        "print(issubclass(ParentA, ParentB)) # False"
      ],
      "metadata": {
        "colab": {
          "base_uri": "https://localhost:8080/"
        },
        "collapsed": true,
        "id": "FQN0mc7tsxf2",
        "outputId": "c8d4301b-d587-4570-942f-5d48cdb6a1bb"
      },
      "execution_count": 30,
      "outputs": [
        {
          "output_type": "stream",
          "name": "stdout",
          "text": [
            "True\n",
            "True\n",
            "True\n",
            "True\n",
            "True\n",
            "True\n",
            "True\n",
            "False\n"
          ]
        }
      ]
    }
  ]
}