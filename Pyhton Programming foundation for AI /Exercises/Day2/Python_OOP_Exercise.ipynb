{
  "nbformat": 4,
  "nbformat_minor": 0,
  "metadata": {
    "colab": {
      "provenance": []
    },
    "kernelspec": {
      "name": "python3",
      "display_name": "Python 3"
    },
    "language_info": {
      "name": "python"
    }
  },
  "cells": [
    {
      "cell_type": "markdown",
      "metadata": {
        "id": "430cEIv0aDLu"
      },
      "source": [
        "![image.png](https://i.imgur.com/a3uAqnb.png)"
      ]
    },
    {
      "cell_type": "markdown",
      "source": [
        "### Exercise 1\n",
        "Write a program (without using OOP) which takes in (x, y) ∈ +2 a tuple of\n",
        "positive number representing the size of rectangular grid. It then takes an arbitrary number\n",
        "of parameters (x, y), r, where the (x, y) represents the center of a circle and r represents\n",
        "the radius. For each entry the program returns a \"True\" if the circle can be placed on the\n",
        "grid without it intersecting with any other circles and then places the circle on the grid. Else\n",
        "\"False\" if the circle can not be placed on the grid because it intersects with other previously\n",
        "placed circle."
      ],
      "metadata": {
        "id": "C2KF5McrmE96"
      }
    },
    {
      "cell_type": "code",
      "source": [],
      "metadata": {
        "id": "TQjW6kn9mO2D"
      },
      "execution_count": null,
      "outputs": []
    },
    {
      "cell_type": "code",
      "source": [],
      "metadata": {
        "id": "5zbDlwS1mPMQ"
      },
      "execution_count": null,
      "outputs": []
    },
    {
      "cell_type": "markdown",
      "source": [
        "### Exercise 2\n",
        "\n",
        "Re-implement the above with OOP."
      ],
      "metadata": {
        "id": "VJPRHKFLmPeN"
      }
    },
    {
      "cell_type": "code",
      "source": [],
      "metadata": {
        "id": "t2p1WWQimRgp"
      },
      "execution_count": null,
      "outputs": []
    },
    {
      "cell_type": "code",
      "source": [],
      "metadata": {
        "id": "EOP4jk0UmRdh"
      },
      "execution_count": null,
      "outputs": []
    },
    {
      "cell_type": "markdown",
      "source": [
        "### Exercise 3\n",
        "\n",
        "Re-implement the above in \"3\" dimensional space. where \"3\" is the input of\n",
        "the class constructor."
      ],
      "metadata": {
        "id": "LamINZMgmR9b"
      }
    },
    {
      "cell_type": "code",
      "source": [],
      "metadata": {
        "id": "UdJlIAvdmjAV"
      },
      "execution_count": null,
      "outputs": []
    },
    {
      "cell_type": "code",
      "source": [],
      "metadata": {
        "id": "bCY7mXQ_mjae"
      },
      "execution_count": null,
      "outputs": []
    },
    {
      "cell_type": "code",
      "source": [],
      "metadata": {
        "id": "A2UhLNQXmjYH"
      },
      "execution_count": null,
      "outputs": []
    },
    {
      "cell_type": "markdown",
      "source": [
        "### Exercise 4\n",
        "Re-implement the above in 2 dimensional where we can now draw, circle,\n",
        "squares, triangles, and rectangles. The format for the shapes is:\n",
        "circle: x, y, r where x, y is center of circle and r is it’s radius\n",
        "square: x, y, d where x, y is center of square and d is it’s side length\n",
        "square: x, y, l, w where x, y is center of square and l, w are it’s length and width\n",
        "triangle: x1, y1, x2, y2, x3, y3 where xi, yi represents the ith corner of the triangle\n"
      ],
      "metadata": {
        "id": "_1Go2jDvmjyf"
      }
    },
    {
      "cell_type": "code",
      "source": [],
      "metadata": {
        "id": "RxAQLyRxmouz"
      },
      "execution_count": null,
      "outputs": []
    },
    {
      "cell_type": "code",
      "source": [],
      "metadata": {
        "id": "bw43J5X-mosq"
      },
      "execution_count": null,
      "outputs": []
    },
    {
      "cell_type": "code",
      "source": [],
      "metadata": {
        "id": "RY4LY7eYmoqU"
      },
      "execution_count": null,
      "outputs": []
    },
    {
      "cell_type": "markdown",
      "source": [
        "### Extra\n",
        "**Multiple Inheritance and Attribute Lookup:**\n",
        "\n",
        "In Python, when an attribute (or method) is accessed through an object, the interpreter follows a well-defined order of lookup known as the Method Resolution Order (MRO). The lookup process follows these rules:\n",
        "\n",
        "\n",
        "\t1.\tThe attribute is first looked for in the class of the object itself.\n",
        "\t2.\tIf not found, it is then searched in the parent classes, from left to right as specified in the class definition.\n",
        "\t3.\tIf a parent itself has parents, the lookup continues recursively up the inheritance chain following the MRO.\n",
        "\t4.\tIf still not found, the lookup moves to the next parent class in order, and so on.\n",
        "\t5.\tIf no match is found anywhere in the hierarchy, Python raises an AttributeError.\n",
        "\n",
        "Python provides useful built-in functions to work with classes and inheritance:\n",
        "\n",
        "\t•\tisinstance(obj, Class) → checks whether an object is an instance of a given class (or its subclasses).\n",
        "\t•\tissubclass(Class1, Class2) → checks whether Class1 is a subclass of Class2."
      ],
      "metadata": {
        "id": "0BJQ0gqtl6WF"
      }
    }
  ]
}