{
  "cells": [
    {
      "cell_type": "code",
      "execution_count": null,
      "metadata": {
        "id": "CJ7_DeKF-OJn"
      },
      "outputs": [],
      "source": [
        "import numpy as np"
      ]
    },
    {
      "cell_type": "code",
      "execution_count": null,
      "metadata": {
        "id": "wI971hMw-BTh"
      },
      "outputs": [],
      "source": [
        "#functional programming paradgim\n",
        "\n",
        "def get_sqrt(x):\n",
        "  ans = np.sqrt(x)\n",
        "  return ans"
      ]
    },
    {
      "cell_type": "code",
      "execution_count": null,
      "metadata": {
        "colab": {
          "base_uri": "https://localhost:8080/"
        },
        "id": "i7YHgoJh-aFx",
        "outputId": "5fe11304-28c0-43e0-bf72-df0c3934a98b"
      },
      "outputs": [
        {
          "name": "stdout",
          "output_type": "stream",
          "text": [
            "1.0\n",
            "1.4142135623730951\n",
            "1.7320508075688772\n",
            "2.0\n",
            "2.23606797749979\n",
            "2.449489742783178\n",
            "2.6457513110645907\n",
            "2.8284271247461903\n"
          ]
        }
      ],
      "source": [
        "x = [1,2,3,4,5,6,7,8]\n",
        "\n",
        "for e in x:\n",
        "  print(get_sqrt(e))"
      ]
    },
    {
      "cell_type": "code",
      "execution_count": null,
      "metadata": {
        "id": "b0kH2zyk-hFf"
      },
      "outputs": [],
      "source": [
        "#checks is number is prime\n",
        "def is_prime(x):\n",
        "  is_prime = True\n",
        "  for j in range(2,x):\n",
        "    if x%j ==0:\n",
        "      is_prime = False\n",
        "      break\n",
        "\n",
        "  return is_prime\n",
        "\n",
        "\n"
      ]
    },
    {
      "cell_type": "code",
      "execution_count": null,
      "metadata": {
        "id": "SU7h_eKg_nIM"
      },
      "outputs": [],
      "source": [
        "#returns only prime numbers in a list\n",
        "def get_primes(y):\n",
        "  l = []\n",
        "  for e in y:\n",
        "    if is_prime(e):\n",
        "      l.append(e)\n",
        "\n",
        "  return l"
      ]
    },
    {
      "cell_type": "code",
      "execution_count": null,
      "metadata": {
        "colab": {
          "base_uri": "https://localhost:8080/"
        },
        "id": "jPZxiwsc_pBm",
        "outputId": "ae5ed0a8-2da4-4377-b14b-721ceea607eb"
      },
      "outputs": [
        {
          "data": {
            "text/plain": [
              "[1, 2, 3, 5, 7]"
            ]
          },
          "execution_count": 13,
          "metadata": {},
          "output_type": "execute_result"
        }
      ],
      "source": [
        "get_primes([1,2,3,4,5,6,7,8,9,10])"
      ]
    },
    {
      "cell_type": "code",
      "execution_count": 1,
      "metadata": {
        "id": "P1OzdVVFANd5"
      },
      "outputs": [],
      "source": [
        "#gcd greatest common divisor\n",
        "def get_factors(x):\n",
        "  f = []\n",
        "  while x>1:\n",
        "    for i in range(2,x):\n",
        "      if x%i ==0:\n",
        "        f.append(i)\n",
        "      x = int(x/i)\n",
        "  return f\n",
        "\n",
        "\n",
        "\n"
      ]
    },
    {
      "cell_type": "code",
      "execution_count": null,
      "metadata": {
        "id": "6ppWyFsdBG-y"
      },
      "outputs": [],
      "source": [
        "def get_gcd(x,y):\n",
        "  gcd = 1\n",
        "  for i in range(1, min(x,y)+1):\n",
        "    if (x%i ==0) and (y% i ==0):\n",
        "      gcd = i\n",
        "\n",
        "  return gcd\n"
      ]
    },
    {
      "cell_type": "code",
      "execution_count": null,
      "metadata": {
        "colab": {
          "base_uri": "https://localhost:8080/"
        },
        "id": "eB3BoepABJHy",
        "outputId": "e53e66b3-0edf-44c5-ff4b-5b9c2fb8b09c"
      },
      "outputs": [
        {
          "data": {
            "text/plain": [
              "4"
            ]
          },
          "execution_count": 38,
          "metadata": {},
          "output_type": "execute_result"
        }
      ],
      "source": [
        "get_gcd(4,8)"
      ]
    },
    {
      "cell_type": "code",
      "execution_count": null,
      "metadata": {
        "id": "OZHf_GxCCtWi"
      },
      "outputs": [],
      "source": [
        "#object oriented programming\n",
        "class Student:\n",
        "  def __init__(self, name, ID, sec):\n",
        "    self.name = name\n",
        "    self.ID = ID\n",
        "    self.sec = sec\n",
        "    self.grades = {}\n",
        "\n",
        "  def add_grade(self, sname, sgrade):\n",
        "    self.grades[sname] = sgrade\n",
        "\n",
        "  def get_gpa(self):\n",
        "    total = 0\n",
        "    count = 0\n",
        "    for key, value in self.grades.items():\n",
        "      total = total + value\n",
        "      count = count + 1\n",
        "    avg = total/count\n",
        "    if avg >90:\n",
        "      return \"A\"\n",
        "    elif avg > 80:\n",
        "      return \"B\"\n",
        "    elif avg>70:\n",
        "      return \"C\"\n",
        "    elif avg > 60:\n",
        "      return \"D\"\n",
        "    else:\n",
        "      return \"F\"\n",
        "\n",
        "\n",
        "\n",
        "\n",
        "  def del_course(self, sname):\n",
        "    del self.grades[sname]"
      ]
    },
    {
      "cell_type": "code",
      "execution_count": null,
      "metadata": {
        "id": "ZmQ8Mxs4DkeV"
      },
      "outputs": [],
      "source": [
        "s1 = Student(\"Ali\", 123, \"UG\")\n",
        "s1.add_grade(\"Math\", 56)\n",
        "s1.add_grade(\"Eng\", 80)\n",
        "s1.add_grade(\"Arabic\", 100)"
      ]
    },
    {
      "cell_type": "code",
      "execution_count": null,
      "metadata": {
        "colab": {
          "base_uri": "https://localhost:8080/",
          "height": 35
        },
        "id": "EMwUI6b1KKcl",
        "outputId": "c52e6d72-2768-41ee-b656-6605af969e29"
      },
      "outputs": [
        {
          "data": {
            "application/vnd.google.colaboratory.intrinsic+json": {
              "type": "string"
            },
            "text/plain": [
              "'C'"
            ]
          },
          "execution_count": 62,
          "metadata": {},
          "output_type": "execute_result"
        }
      ],
      "source": [
        "s1.get_gpa()"
      ]
    },
    {
      "cell_type": "code",
      "execution_count": null,
      "metadata": {
        "colab": {
          "base_uri": "https://localhost:8080/"
        },
        "id": "5GQ4HHhuIifb",
        "outputId": "b8dbc3b9-07be-478d-8694-6cda67e88eee"
      },
      "outputs": [
        {
          "data": {
            "text/plain": [
              "{'Math': 56, 'Eng': 80, 'Arabic': 100}"
            ]
          },
          "execution_count": 57,
          "metadata": {},
          "output_type": "execute_result"
        }
      ],
      "source": [
        "s1.grades"
      ]
    },
    {
      "cell_type": "code",
      "execution_count": null,
      "metadata": {
        "id": "xVlqQDX4DwwJ"
      },
      "outputs": [],
      "source": [
        "s1.del_course(\"Math\")"
      ]
    },
    {
      "cell_type": "code",
      "execution_count": null,
      "metadata": {
        "colab": {
          "base_uri": "https://localhost:8080/"
        },
        "id": "JR_HeQ6BJSQi",
        "outputId": "55d7228d-9b3d-4314-f99e-6be882fbf454"
      },
      "outputs": [
        {
          "data": {
            "text/plain": [
              "{'Eng': 80, 'Arabic': 100}"
            ]
          },
          "execution_count": 59,
          "metadata": {},
          "output_type": "execute_result"
        }
      ],
      "source": [
        "s1.grades"
      ]
    },
    {
      "cell_type": "code",
      "execution_count": null,
      "metadata": {
        "id": "pIWtfQ78JSN0"
      },
      "outputs": [],
      "source": []
    },
    {
      "cell_type": "code",
      "execution_count": null,
      "metadata": {
        "id": "eC_RgqxvJSLO"
      },
      "outputs": [],
      "source": []
    },
    {
      "cell_type": "code",
      "execution_count": null,
      "metadata": {
        "colab": {
          "base_uri": "https://localhost:8080/"
        },
        "id": "u4X6lFYIDxRL",
        "outputId": "87c145a2-ebe5-41ca-983d-c3bb818558e7"
      },
      "outputs": [
        {
          "name": "stdout",
          "output_type": "stream",
          "text": [
            "Hello test World\n"
          ]
        }
      ],
      "source": [
        "s = \"test\"\n",
        "print(f\"Hello {s} World\")"
      ]
    },
    {
      "cell_type": "code",
      "execution_count": null,
      "metadata": {
        "id": "_IoBTRGMEMYS"
      },
      "outputs": [],
      "source": []
    }
  ],
  "metadata": {
    "colab": {
      "provenance": []
    },
    "kernelspec": {
      "display_name": "base",
      "language": "python",
      "name": "python3"
    },
    "language_info": {
      "codemirror_mode": {
        "name": "ipython",
        "version": 3
      },
      "file_extension": ".py",
      "mimetype": "text/x-python",
      "name": "python",
      "nbconvert_exporter": "python",
      "pygments_lexer": "ipython3",
      "version": "3.13.5"
    }
  },
  "nbformat": 4,
  "nbformat_minor": 0
}
