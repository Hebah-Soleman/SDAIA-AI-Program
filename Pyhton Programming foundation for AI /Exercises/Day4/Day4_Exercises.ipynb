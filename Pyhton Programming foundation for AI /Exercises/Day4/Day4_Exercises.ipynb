{
 "cells": [
  {
   "cell_type": "markdown",
   "id": "735c59f9",
   "metadata": {},
   "source": [
    "# Pandas & Matplotlib Harder Exercises"
   ]
  },
  {
   "cell_type": "markdown",
   "id": "ba312e35",
   "metadata": {},
   "source": [
    "This notebook contains 20 exercises (10 Pandas + 10 Matplotlib) using `employees.csv` dataset."
   ]
  },
  {
   "cell_type": "code",
   "execution_count": null,
   "id": "30b2491c",
   "metadata": {},
   "outputs": [],
   "source": [
    "\n",
    "# Import necessary libraries\n",
    "import pandas as pd\n",
    "import matplotlib.pyplot as plt\n",
    "\n",
    "# Show plots inside the notebook\n",
    "%matplotlib inline\n",
    "\n",
    "# Load dataset\n",
    "df = pd.read_csv('employees.csv')\n",
    "df.head()\n"
   ]
  },
  {
   "cell_type": "markdown",
   "id": "4639fd07",
   "metadata": {},
   "source": [
    "## Pandas Exercises"
   ]
  },
  {
   "cell_type": "markdown",
   "id": "0c5df8cb",
   "metadata": {},
   "source": [
    "### Exercise 1: Load `employees.csv` into a DataFrame and display its shape."
   ]
  },
  {
   "cell_type": "code",
   "execution_count": null,
   "id": "8d8a9735",
   "metadata": {},
   "outputs": [],
   "source": [
    "# TODO: Write your solution here"
   ]
  },
  {
   "cell_type": "markdown",
   "id": "b717aac2",
   "metadata": {},
   "source": [
    "### Exercise 2: Show only the rows where `City` is 'Riyadh' and `Salary` > 6000."
   ]
  },
  {
   "cell_type": "code",
   "execution_count": null,
   "id": "4de0dcfd",
   "metadata": {},
   "outputs": [],
   "source": [
    "# TODO: Write your solution here"
   ]
  },
  {
   "cell_type": "markdown",
   "id": "4158ba21",
   "metadata": {},
   "source": [
    "### Exercise 3: Find the average `Salary` for each `City`."
   ]
  },
  {
   "cell_type": "code",
   "execution_count": null,
   "id": "6af27520",
   "metadata": {},
   "outputs": [],
   "source": [
    "# TODO: Write your solution here"
   ]
  },
  {
   "cell_type": "markdown",
   "id": "c28eec5c",
   "metadata": {},
   "source": [
    "### Exercise 4: Add a new column `Salary_USD` converting Salary assuming 1 SAR = 0.27 USD."
   ]
  },
  {
   "cell_type": "code",
   "execution_count": null,
   "id": "e0d6f0b5",
   "metadata": {},
   "outputs": [],
   "source": [
    "# TODO: Write your solution here"
   ]
  },
  {
   "cell_type": "markdown",
   "id": "d08eadf8",
   "metadata": {},
   "source": [
    "### Exercise 5: Find the top 3 highest salaries and the corresponding names."
   ]
  },
  {
   "cell_type": "code",
   "execution_count": null,
   "id": "a5af413c",
   "metadata": {},
   "outputs": [],
   "source": [
    "# TODO: Write your solution here"
   ]
  },
  {
   "cell_type": "markdown",
   "id": "ab169414",
   "metadata": {},
   "source": [
    "### Exercise 6: Replace all cities named 'Mecca' with 'Makkah'."
   ]
  },
  {
   "cell_type": "code",
   "execution_count": null,
   "id": "d3176571",
   "metadata": {},
   "outputs": [],
   "source": [
    "# TODO: Write your solution here"
   ]
  },
  {
   "cell_type": "markdown",
   "id": "b70e72c3",
   "metadata": {},
   "source": [
    "### Exercise 7: Count how many employees are older than 30 in each city."
   ]
  },
  {
   "cell_type": "code",
   "execution_count": null,
   "id": "03b69c86",
   "metadata": {},
   "outputs": [],
   "source": [
    "# TODO: Write your solution here"
   ]
  },
  {
   "cell_type": "markdown",
   "id": "8b8044d9",
   "metadata": {},
   "source": [
    "### Exercise 8: Create a pivot table with `City` as rows and average `Salary` as values."
   ]
  },
  {
   "cell_type": "code",
   "execution_count": null,
   "id": "2c68b404",
   "metadata": {},
   "outputs": [],
   "source": [
    "# TODO: Write your solution here"
   ]
  },
  {
   "cell_type": "markdown",
   "id": "12b568af",
   "metadata": {},
   "source": [
    "### Exercise 9: Sort employees by `Age` ascending, then by `Salary` descending."
   ]
  },
  {
   "cell_type": "code",
   "execution_count": null,
   "id": "c5db1928",
   "metadata": {},
   "outputs": [],
   "source": [
    "# TODO: Write your solution here"
   ]
  },
  {
   "cell_type": "markdown",
   "id": "999ac659",
   "metadata": {},
   "source": [
    "### Exercise 10: Export only the columns `Name` and `Salary` to a new CSV file named `salaries.csv`."
   ]
  },
  {
   "cell_type": "code",
   "execution_count": null,
   "id": "cd2e09d5",
   "metadata": {},
   "outputs": [],
   "source": [
    "# TODO: Write your solution here"
   ]
  },
  {
   "cell_type": "markdown",
   "id": "9ff43ca9",
   "metadata": {},
   "source": [
    "## Matplotlib Exercises"
   ]
  },
  {
   "cell_type": "markdown",
   "id": "11fcd9d8",
   "metadata": {},
   "source": [
    "### Exercise 1: Plot a line graph showing `Age` on X-axis and `Salary` on Y-axis from `employees.csv`."
   ]
  },
  {
   "cell_type": "code",
   "execution_count": null,
   "id": "2c1677d6",
   "metadata": {},
   "outputs": [],
   "source": [
    "# TODO: Write your solution here"
   ]
  },
  {
   "cell_type": "markdown",
   "id": "c14fe45e",
   "metadata": {},
   "source": [
    "### Exercise 2: Create a bar chart of average salaries per city."
   ]
  },
  {
   "cell_type": "code",
   "execution_count": null,
   "id": "1d6f924c",
   "metadata": {},
   "outputs": [],
   "source": [
    "# TODO: Write your solution here"
   ]
  },
  {
   "cell_type": "markdown",
   "id": "36149cfb",
   "metadata": {},
   "source": [
    "### Exercise 3: Create a scatter plot of `Age` vs `Salary`, color points by `City`."
   ]
  },
  {
   "cell_type": "code",
   "execution_count": null,
   "id": "af4ab8ac",
   "metadata": {},
   "outputs": [],
   "source": [
    "# TODO: Write your solution here"
   ]
  },
  {
   "cell_type": "markdown",
   "id": "bdfdfb52",
   "metadata": {},
   "source": [
    "### Exercise 4: Create a histogram of the `Salary` column with 5 bins."
   ]
  },
  {
   "cell_type": "code",
   "execution_count": null,
   "id": "a362d728",
   "metadata": {},
   "outputs": [],
   "source": [
    "# TODO: Write your solution here"
   ]
  },
  {
   "cell_type": "markdown",
   "id": "8b847df9",
   "metadata": {},
   "source": [
    "### Exercise 5: Add title 'Salary Distribution by City' and X/Y axis labels to a bar chart."
   ]
  },
  {
   "cell_type": "code",
   "execution_count": null,
   "id": "3507f073",
   "metadata": {},
   "outputs": [],
   "source": [
    "# TODO: Write your solution here"
   ]
  },
  {
   "cell_type": "markdown",
   "id": "4f50510c",
   "metadata": {},
   "source": [
    "### Exercise 6: Plot two lines: one for `Age` and another for `Salary` on the same chart."
   ]
  },
  {
   "cell_type": "code",
   "execution_count": null,
   "id": "a54e3269",
   "metadata": {},
   "outputs": [],
   "source": [
    "# TODO: Write your solution here"
   ]
  },
  {
   "cell_type": "markdown",
   "id": "f5d9207d",
   "metadata": {},
   "source": [
    "### Exercise 7: Create a pie chart showing the proportion of employees in each city."
   ]
  },
  {
   "cell_type": "code",
   "execution_count": null,
   "id": "e1f672aa",
   "metadata": {},
   "outputs": [],
   "source": [
    "# TODO: Write your solution here"
   ]
  },
  {
   "cell_type": "markdown",
   "id": "ce891477",
   "metadata": {},
   "source": [
    "### Exercise 8: Customize a scatter plot: make points red and size = Age * 10."
   ]
  },
  {
   "cell_type": "code",
   "execution_count": null,
   "id": "d9cf1b64",
   "metadata": {},
   "outputs": [],
   "source": [
    "# TODO: Write your solution here"
   ]
  },
  {
   "cell_type": "markdown",
   "id": "4638312b",
   "metadata": {},
   "source": [
    "### Exercise 9: Create a stacked bar chart showing count of employees grouped by City and Age > 30 vs <= 30."
   ]
  },
  {
   "cell_type": "code",
   "execution_count": null,
   "id": "914b6bc7",
   "metadata": {},
   "outputs": [],
   "source": [
    "# TODO: Write your solution here"
   ]
  },
  {
   "cell_type": "markdown",
   "id": "aec18044",
   "metadata": {},
   "source": [
    "### Exercise 10: Save a plot as `analysis.png`."
   ]
  },
  {
   "cell_type": "code",
   "execution_count": null,
   "id": "fc1c6a70",
   "metadata": {},
   "outputs": [],
   "source": [
    "# TODO: Write your solution here"
   ]
  }
 ],
 "metadata": {},
 "nbformat": 4,
 "nbformat_minor": 5
}