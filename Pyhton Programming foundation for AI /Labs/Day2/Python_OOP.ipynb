{
  "nbformat": 4,
  "nbformat_minor": 0,
  "cells": [
    {
      "cell_type": "markdown",
      "metadata": {
        "id": "430cEIv0aDLu"
      },
      "source": [
        "![image.png](https://i.imgur.com/a3uAqnb.png)"
      ]
    },
    {
      "cell_type": "markdown",
      "source": [
        "---"
      ],
      "metadata": {
        "id": "8NoDLnjvQEeK"
      }
    },
    {
      "cell_type": "markdown",
      "source": [
        "Object oriented programming is a data-centered programming paradigm that is based on the idea of grouping data and functions that act on particular data in so-called **classes**. A class can be seen as a complex data-type, a template if you will. Variables that are of that data type are said to be **objects** or **instances** of that class.\n"
      ],
      "metadata": {
        "id": "PipWIeg2QEeL"
      }
    },
    {
      "cell_type": "markdown",
      "source": [
        "### Class"
      ],
      "metadata": {
        "id": "LxGmE68mk0Dt"
      }
    },
    {
      "cell_type": "code",
      "source": [
        "class Person:\n",
        "    def __init__(self, name, age):\n",
        "        self.name = name\n",
        "        self.age = age"
      ],
      "outputs": [],
      "metadata": {
        "id": "UZKJlPXDQEeL"
      },
      "execution_count": 9
    },
    {
      "cell_type": "markdown",
      "source": [
        "Here we created a class Person with a function `__init__`. Functions that start with underscores are always special functions to Python which are connected with other built-in aspects of the language. The initialisation function will be called when an object of that initialised. Let's do so:"
      ],
      "metadata": {
        "id": "po5ooI5SQEeM"
      }
    },
    {
      "cell_type": "code",
      "source": [
        "author = Person(\"Maarten\", 30)\n",
        "print(\"My name is \" + author.name)\n",
        "print(\"My age is \" + str(author.age))"
      ],
      "outputs": [
        {
          "output_type": "stream",
          "name": "stdout",
          "text": [
            "My name is Maarten\n",
            "My age is  30\n"
          ]
        }
      ],
      "metadata": {
        "id": "AraVdBL3QEeN",
        "colab": {
          "base_uri": "https://localhost:8080/"
        },
        "outputId": "bfba4698-3e89-4f3e-f937-db805bbb1158"
      },
      "execution_count": 11
    },
    {
      "cell_type": "markdown",
      "source": [
        "Functions within a class are called **methods**. The initialisation method assigns the two parameters that are passed to variables that *belong to the object*, within a class definition the object is always represented by `self`.\n",
        "\n",
        "The first argument of a method is always `self`, and it will always point to the instance of the class. This first argument however is never explicitly specified when you call the method. It is implicitly passed by Python itself. That is why you see a discrepancy between the number of arguments in the instantiation and in the class definition.\n",
        "\n",
        "\n",
        "Any variable or methods in a class can be accessed using the period (`.`) syntax:\n",
        "\n",
        "    object.variable\n",
        "\n",
        "or:\n",
        "\n",
        "    object.method\n",
        "\n"
      ],
      "metadata": {
        "id": "TOGdCH33QEeN"
      }
    },
    {
      "cell_type": "markdown",
      "source": [
        "### Encapsulation"
      ],
      "metadata": {
        "id": "nxinP1T4kxph"
      }
    },
    {
      "cell_type": "markdown",
      "source": [
        "In the above example we printed the name and age. Now we will turn this into a method --> **Encapsulation**"
      ],
      "metadata": {
        "id": "j9a-b48iQEeN"
      }
    },
    {
      "cell_type": "code",
      "source": [
        "class Person:\n",
        "    def __init__(self, name, age):\n",
        "        self.name = name\n",
        "        self.age = age\n",
        "\n",
        "    def introduceyourself(self):\n",
        "        print(\"My name is \" + self.name)\n",
        "        print(\"My age is \" + str(self.age))\n",
        "\n",
        "author = Person(\"Maarten\",30)\n",
        "author.introduceyourself()"
      ],
      "outputs": [
        {
          "output_type": "stream",
          "name": "stdout",
          "text": [
            "My name is Maarten\n",
            "My age is 30\n"
          ]
        }
      ],
      "metadata": {
        "id": "gi46R399QEeO",
        "colab": {
          "base_uri": "https://localhost:8080/"
        },
        "outputId": "a1d7909d-d883-4b8e-d5ce-bc889b1f8bb4"
      },
      "execution_count": 12
    },
    {
      "cell_type": "markdown",
      "source": [
        "Add a variable `gender` (a string) to the Person class and adapt the initialisation method accordingly. Also add a method `ismale()` that uses this new information and returns a boolean value (True/False).\n"
      ],
      "metadata": {
        "id": "UPkARwlZQEeO"
      }
    },
    {
      "cell_type": "code",
      "source": [
        "#adapt the code:\n",
        "\n",
        "class Person:\n",
        "    def __init__(self, name, age):\n",
        "        self.name = name\n",
        "        self.age = age\n",
        "\n",
        "    def introduceyourself(self):\n",
        "        print(\"My name is \" + self.name)\n",
        "        print(\"My age is \" + str(self.age))\n",
        "\n",
        "\n",
        "\n",
        "author = Person(\"Maarten\",30)\n",
        "author.introduceyourself()"
      ],
      "outputs": [
        {
          "output_type": "stream",
          "name": "stdout",
          "text": [
            "My name is Maarten\n",
            "My age is 30\n"
          ]
        },
        {
          "output_type": "execute_result",
          "data": {
            "text/plain": [
              "True"
            ]
          },
          "metadata": {},
          "execution_count": 16
        }
      ],
      "metadata": {
        "id": "f0UB5YwNQEeP",
        "colab": {
          "base_uri": "https://localhost:8080/"
        },
        "outputId": "c2f8246e-6777-4f1d-a764-e8f105df3ea8"
      },
      "execution_count": 16
    },
    {
      "cell_type": "markdown",
      "source": [
        "---"
      ],
      "metadata": {
        "id": "fBAr1iIKQEeP"
      }
    },
    {
      "cell_type": "markdown",
      "source": [
        "###Inheritance"
      ],
      "metadata": {
        "id": "weAamXAHQEeP"
      }
    },
    {
      "cell_type": "markdown",
      "source": [
        "One of the neat things you can do with classes is that you can build more specialised classes on top of more generic classes. `Person` for instance is a rather generic concept. We can use this generic class to build a more specialised class `Teacher`, a person that teaches a course. If you use inheritance, everything that the parent class could do, the inherited class can do as well!\n",
        "\n",
        "The syntax for inheritance is as follows:"
      ],
      "metadata": {
        "id": "Wh7kRCkIQEeP"
      }
    },
    {
      "cell_type": "code",
      "source": [
        "class Person:\n",
        "    def __init__(self, name, age):\n",
        "        self.name = name\n",
        "        self.age = age\n",
        "\n",
        "    def introduceyourself(self):\n",
        "        print(\"My name is \" + self.name)\n",
        "        print(\"My age is \" + str(self.age))\n",
        "\n",
        "\n",
        "class Teacher(Person): #this class inherits the class above!\n",
        "    def stateprofession(self):\n",
        "        print(\"I am a teacher!\")"
      ],
      "outputs": [],
      "metadata": {
        "id": "BTn89vSPQEeP"
      },
      "execution_count": 17
    },
    {
      "cell_type": "code",
      "source": [
        "author = Teacher(\"Maarten\",30)\n",
        "author.introduceyourself()\n",
        "author.stateprofession()"
      ],
      "outputs": [
        {
          "output_type": "stream",
          "name": "stdout",
          "text": [
            "My name is Maarten\n",
            "My age is 30\n",
            "I am a teacher!\n"
          ]
        }
      ],
      "metadata": {
        "id": "_iYGa6OGQEeQ",
        "colab": {
          "base_uri": "https://localhost:8080/"
        },
        "outputId": "a5dc42c4-72c9-4da7-b4ce-1f02c6ee5070"
      },
      "execution_count": 18
    },
    {
      "cell_type": "markdown",
      "source": [
        "---"
      ],
      "metadata": {
        "id": "sJcFSGRVdJr2"
      }
    },
    {
      "cell_type": "markdown",
      "source": [
        "Instead of completely overloading a method, you can also call the method of the parent class. The following example contains modified versions of all methods, adds some extra methods and variables to keep track of the courses that are taught by the teacher. The edited methods call the method of the parent class the avoid repetition of code (one of the deadly sins of computer programming):"
      ],
      "metadata": {
        "id": "Su0EbmLAQEeQ"
      }
    },
    {
      "cell_type": "code",
      "source": [
        "class Teacher(Person): #this class inherits the class above!\n",
        "    def __init__(self, name, age):\n",
        "        self.courses = [] #initialise a new variable\n",
        "        super().__init__(name,age) #call the init of Person\n",
        "\n",
        "    def stateprofession(self):\n",
        "        print(\"I am a teacher!\")\n",
        "\n",
        "    def introduceyourself(self):\n",
        "        super().introduceyourself() #call the introduceyourself() of the Person\n",
        "        self.stateprofession()\n",
        "        print(\"I teach \" + str(self.nrofcourses()) + \" course(s)\")\n",
        "        for course in self.courses:\n",
        "            print(\"I teach \" + course)\n",
        "\n",
        "\n",
        "    def addcourse(self, course):\n",
        "        self.courses.append(course)\n",
        "\n",
        "    def nrofcourses(self):\n",
        "        return len(self.courses)\n",
        "\n",
        "\n",
        "author = Teacher(\"Maarten\",30)\n",
        "author.addcourse(\"Python\")\n",
        "author.introduceyourself()\n"
      ],
      "outputs": [
        {
          "output_type": "stream",
          "name": "stdout",
          "text": [
            "My name is Maarten\n",
            "My age is 30\n",
            "I am a teacher!\n",
            "I teach 1 course(s)\n",
            "I teach Python\n"
          ]
        }
      ],
      "metadata": {
        "id": "woF6MQ2NQEeQ",
        "colab": {
          "base_uri": "https://localhost:8080/"
        },
        "outputId": "7ec2f9c0-0444-4d9d-ebed-3f1fe45a0fba"
      },
      "execution_count": 20
    },
    {
      "cell_type": "markdown",
      "source": [
        "---"
      ],
      "metadata": {
        "id": "HLC5j2SJQEeQ"
      }
    },
    {
      "cell_type": "markdown",
      "source": [
        "###Operator overloading"
      ],
      "metadata": {
        "id": "OyM-R2WsQEeR"
      }
    },
    {
      "cell_type": "markdown",
      "source": [
        "If you write your own classes, you can define what needs to happen if an operator such as for example `+`,`/` or `<` is used on your class. You can also define what happens when the keyword `in` or built-in functions such as `len()` are you used with your class. This allows for a very elegant way of programming. Each of these operators and built-in functions have an associated method which you can overload. All of these methods start, like `__init__`, with a double underscore.\n"
      ],
      "metadata": {
        "id": "INQwhI9cQEeR"
      }
    },
    {
      "cell_type": "markdown",
      "source": [
        "For example. Let's allow comparison of tweets using the '<' and '>' operators. The methods for the opertors are respectively `__lt__` and `__gt__`, both take one argument, the other object to compare to. A tweet qualifies as greater than another if it is a newer, more recent, tweet:"
      ],
      "metadata": {
        "id": "5PW3G6tnQEeR"
      }
    },
    {
      "cell_type": "code",
      "source": [
        "class Tweet:\n",
        "    def __init__(self, message, time):\n",
        "        self.message = message\n",
        "        self.time = time # we will assume here that time is a numerical value\n",
        "\n",
        "    def __lt__(self, other):\n",
        "        return self.time < other.time\n",
        "\n",
        "    def __gt__(self, other):\n",
        "        return self.time > other.time\n",
        "\n",
        "\n",
        "oldtweet = Tweet(\"this is an old tweet\",20)\n",
        "newtweet = Tweet(\"this is a new tweet\",1000)\n",
        "print(newtweet > oldtweet)"
      ],
      "outputs": [
        {
          "output_type": "stream",
          "name": "stdout",
          "text": [
            "True\n"
          ]
        }
      ],
      "metadata": {
        "id": "lGROHS1vQEeR",
        "colab": {
          "base_uri": "https://localhost:8080/"
        },
        "outputId": "fa41cf3a-8d62-4597-b0b2-91d8b4d40afa"
      },
      "execution_count": 30
    },
    {
      "cell_type": "markdown",
      "source": [
        "Using the `sorted()` function to automatically order tweets after defining the `__lt__` and `__gt__` methods based on time.”"
      ],
      "metadata": {
        "id": "rZ7h6hv5QEeR"
      }
    },
    {
      "cell_type": "code",
      "source": [
        "tweets = [newtweet,oldtweet]\n",
        "\n",
        "for tweet in sorted(tweets):\n",
        "    print(tweet.message)"
      ],
      "outputs": [
        {
          "output_type": "stream",
          "name": "stdout",
          "text": [
            "this is a new tweet\n",
            "this is an old tweet\n"
          ]
        }
      ],
      "metadata": {
        "id": "PYpIKLDXQEeS",
        "colab": {
          "base_uri": "https://localhost:8080/"
        },
        "outputId": "38ac516a-9ed0-4440-bc36-a675462a116b"
      },
      "execution_count": 31
    },
    {
      "cell_type": "markdown",
      "source": [
        "Overloading `in` keyword is done using the `__contains__` method. It takes as extra argument the item that is being searched for. The method should return a boolean value. For tweets, let's implement support for the `in` operator and have it check whether a certain word is in the tweet."
      ],
      "metadata": {
        "id": "1EyH2el6QEeT"
      }
    },
    {
      "cell_type": "code",
      "source": [
        "class Tweet:\n",
        "    def __init__(self, message, time):\n",
        "        self.message = message\n",
        "        self.time = time\n",
        "\n",
        "    def __lt__(self, other):\n",
        "        return self.time < other.time\n",
        "\n",
        "    def __contains__(self, word):\n",
        "        # check if the word exists inside the message (case-sensitive)\n",
        "        return word in self.message\n",
        "\n",
        "\n",
        "# create a Tweet object\n",
        "tweet = Tweet(\"I will travel to Oxfford\", 20)\n",
        "\n",
        "# check if the word \"Oxfford\" is in the tweet\n",
        "if \"Oxfford\" in tweet:     # this triggers __contains__\n",
        "    print(\"Nice! Your tweet mentions Oxford ✈️\")\n",
        "else:\n",
        "    print(\"No mention of Oxford in the tweet.\")"
      ],
      "metadata": {
        "colab": {
          "base_uri": "https://localhost:8080/"
        },
        "id": "XnMo3j4Rgkuc",
        "outputId": "c2ee303d-18b1-4c93-d8c4-244b3a5d216a"
      },
      "execution_count": 34,
      "outputs": [
        {
          "output_type": "stream",
          "name": "stdout",
          "text": [
            "Nice! Your tweet mentions Oxford ✈️\n"
          ]
        }
      ]
    },
    {
      "cell_type": "markdown",
      "source": [
        "---\n"
      ],
      "metadata": {
        "id": "q_FgfGDSQEeT"
      }
    },
    {
      "cell_type": "markdown",
      "source": [
        "###Iteration over an object"
      ],
      "metadata": {
        "id": "eojykOccQEeU"
      }
    },
    {
      "cell_type": "markdown",
      "source": [
        "This is done by overloading the `__iter__` method. It takes no extra arguments and should be a **generator**. Which if you recall means that you should use `yield` instead of `return`. Consider the following class `TwitterUser`, if we iterate over an instance of that class, we want to iterate over all tweets. To make it more fun, let's iterate in chronologically sorted order:"
      ],
      "metadata": {
        "id": "M9H739llQEeU"
      }
    },
    {
      "cell_type": "code",
      "source": [
        "class TwitterUser:\n",
        "    def __init__(self, name):\n",
        "        self.name = name\n",
        "        self.tweets = [] #This will be a list of all tweets, these should be Tweet objects\n",
        "\n",
        "    def append(self, tweet):\n",
        "        assert isinstance(tweet, Tweet) #this code will check if tweet is an instance\n",
        "                                        #of the Tweet class. If not, an exception\n",
        "                                        #will be raised\n",
        "        #append the tweet to our list\n",
        "        self.tweets.append(tweet)\n",
        "\n",
        "    def __iter__(self):\n",
        "        for tweet in sorted(self.tweets):\n",
        "            yield tweet\n",
        "\n",
        "\n",
        "tweeter = TwitterUser(\"proycon\")\n",
        "tweeter.append(Tweet(\"My peanut butter sandwich has just fallen bottoms-down\",4))\n",
        "tweeter.append(Tweet(\"Tying my shoelaces\",2))\n",
        "tweeter.append(Tweet(\"Wiggling my toes\",3))\n",
        "tweeter.append(Tweet(\"Staring at a bird\",1))\n",
        "\n",
        "for tweet in tweeter:\n",
        "    print(tweet.message)"
      ],
      "outputs": [
        {
          "output_type": "stream",
          "name": "stdout",
          "text": [
            "Staring at a bird\n",
            "Tying my shoelaces\n",
            "Wiggling my toes\n",
            "My peanut butter sandwich has just fallen bottoms-down\n"
          ]
        }
      ],
      "metadata": {
        "id": "fOCD6f52QEeU",
        "colab": {
          "base_uri": "https://localhost:8080/"
        },
        "outputId": "8265c9ca-e448-448e-812b-bd987276ca79"
      },
      "execution_count": 37
    },
    {
      "cell_type": "markdown",
      "source": [
        "The method `__len__` is invoked when the built-in function `len()` is used."
      ],
      "metadata": {
        "id": "dPInLkpcQEeU"
      }
    },
    {
      "cell_type": "code",
      "source": [
        "class TwitterUser:\n",
        "    def __init__(self, name):\n",
        "        self.name = name\n",
        "        self.tweets = [] #This will be a list of all tweets, these should be Tweet objects\n",
        "\n",
        "    def append(self, tweet):\n",
        "        assert isinstance(tweet, Tweet) #this code will check if tweet is an instance\n",
        "                                        #of the Tweet class. If not, an exception\n",
        "                                        #will be raised\n",
        "        #append the tweet to our list\n",
        "        self.tweets.append(tweet)\n",
        "\n",
        "    def __iter__(self):\n",
        "        for tweet in sorted(self.tweets):\n",
        "            yield tweet\n",
        "\n",
        "    ...\n",
        "\n",
        "tweeter = TwitterUser(\"proycon\")\n",
        "tweeter.append(Tweet(\"My peanut butter sandwich has just fallen bottoms-down\",4))\n",
        "tweeter.append(Tweet(\"Tying my shoelaces\",2))\n",
        "tweeter.append(Tweet(\"Wiggling my toes\",3))\n",
        "tweeter.append(Tweet(\"Staring at a bird\",1))\n"
      ],
      "metadata": {
        "id": "EOCIaZquigan"
      },
      "execution_count": 39,
      "outputs": []
    },
    {
      "cell_type": "code",
      "source": [
        "print(len(tweeter) == 4)"
      ],
      "outputs": [
        {
          "output_type": "stream",
          "name": "stdout",
          "text": [
            "True\n"
          ]
        }
      ],
      "metadata": {
        "id": "zXxiB9-PQEeU",
        "colab": {
          "base_uri": "https://localhost:8080/"
        },
        "outputId": "299987cf-f4b4-44d7-ca57-543a0080d1f5"
      },
      "execution_count": 40
    }
  ],
  "metadata": {
    "colab": {
      "provenance": []
    },
    "language_info": {
      "name": "python"
    },
    "kernelspec": {
      "name": "python3",
      "display_name": "Python 3"
    }
  }
}